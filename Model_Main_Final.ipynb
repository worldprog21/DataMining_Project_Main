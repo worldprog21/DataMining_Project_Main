{
 "cells": [
  {
   "cell_type": "code",
   "execution_count": 1,
   "metadata": {},
   "outputs": [
    {
     "data": {
      "application/javascript": [
       "\n",
       "            setTimeout(function() {\n",
       "                var nbb_cell_id = 1;\n",
       "                var nbb_unformatted_code = \"# debugging and formatter\\nfrom IPython.core.debugger import set_trace\\n\\n%load_ext nb_black\";\n",
       "                var nbb_formatted_code = \"# debugging and formatter\\nfrom IPython.core.debugger import set_trace\\n\\n%load_ext nb_black\";\n",
       "                var nbb_cells = Jupyter.notebook.get_cells();\n",
       "                for (var i = 0; i < nbb_cells.length; ++i) {\n",
       "                    if (nbb_cells[i].input_prompt_number == nbb_cell_id) {\n",
       "                        if (nbb_cells[i].get_text() == nbb_unformatted_code) {\n",
       "                             nbb_cells[i].set_text(nbb_formatted_code);\n",
       "                        }\n",
       "                        break;\n",
       "                    }\n",
       "                }\n",
       "            }, 500);\n",
       "            "
      ],
      "text/plain": [
       "<IPython.core.display.Javascript object>"
      ]
     },
     "metadata": {},
     "output_type": "display_data"
    }
   ],
   "source": [
    "# debugging and formatter\n",
    "from IPython.core.debugger import set_trace\n",
    "\n",
    "%load_ext nb_black"
   ]
  },
  {
   "cell_type": "code",
   "execution_count": 2,
   "metadata": {},
   "outputs": [
    {
     "data": {
      "application/javascript": [
       "\n",
       "            setTimeout(function() {\n",
       "                var nbb_cell_id = 2;\n",
       "                var nbb_unformatted_code = \"import pandas as pd\\nimport numpy as np\\nimport os\\nimport matplotlib.pyplot as plt\\nimport pickle\\nfrom sklearn.metrics import roc_auc_score\\nfrom sklearn.preprocessing import LabelEncoder\\nfrom sklearn.model_selection import TimeSeriesSplit, KFold\\nimport time\\nimport lightgbm as lgb\\nimport xgboost as xgb\\n\\nplt.style.use(style=\\\"seaborn\\\")\\n%matplotlib inline\";\n",
       "                var nbb_formatted_code = \"import pandas as pd\\nimport numpy as np\\nimport os\\nimport matplotlib.pyplot as plt\\nimport pickle\\nfrom sklearn.metrics import roc_auc_score\\nfrom sklearn.preprocessing import LabelEncoder\\nfrom sklearn.model_selection import TimeSeriesSplit, KFold\\nimport time\\nimport lightgbm as lgb\\nimport xgboost as xgb\\n\\nplt.style.use(style=\\\"seaborn\\\")\\n%matplotlib inline\";\n",
       "                var nbb_cells = Jupyter.notebook.get_cells();\n",
       "                for (var i = 0; i < nbb_cells.length; ++i) {\n",
       "                    if (nbb_cells[i].input_prompt_number == nbb_cell_id) {\n",
       "                        if (nbb_cells[i].get_text() == nbb_unformatted_code) {\n",
       "                             nbb_cells[i].set_text(nbb_formatted_code);\n",
       "                        }\n",
       "                        break;\n",
       "                    }\n",
       "                }\n",
       "            }, 500);\n",
       "            "
      ],
      "text/plain": [
       "<IPython.core.display.Javascript object>"
      ]
     },
     "metadata": {},
     "output_type": "display_data"
    }
   ],
   "source": [
    "import pandas as pd\n",
    "import numpy as np\n",
    "import os\n",
    "import matplotlib.pyplot as plt\n",
    "import pickle\n",
    "from sklearn.metrics import roc_auc_score\n",
    "from sklearn.preprocessing import LabelEncoder\n",
    "from sklearn.model_selection import TimeSeriesSplit, KFold\n",
    "import time\n",
    "import lightgbm as lgb\n",
    "import xgboost as xgb\n",
    "\n",
    "plt.style.use(style=\"seaborn\")\n",
    "%matplotlib inline"
   ]
  },
  {
   "cell_type": "code",
   "execution_count": 3,
   "metadata": {},
   "outputs": [
    {
     "data": {
      "application/javascript": [
       "\n",
       "            setTimeout(function() {\n",
       "                var nbb_cell_id = 3;\n",
       "                var nbb_unformatted_code = \"from os import listdir\\nfrom os.path import isfile, join\\n\\nloc = os.path.abspath(\\\"\\\")\\ndata_loc = f\\\"{loc}/data\\\"\";\n",
       "                var nbb_formatted_code = \"from os import listdir\\nfrom os.path import isfile, join\\n\\nloc = os.path.abspath(\\\"\\\")\\ndata_loc = f\\\"{loc}/data\\\"\";\n",
       "                var nbb_cells = Jupyter.notebook.get_cells();\n",
       "                for (var i = 0; i < nbb_cells.length; ++i) {\n",
       "                    if (nbb_cells[i].input_prompt_number == nbb_cell_id) {\n",
       "                        if (nbb_cells[i].get_text() == nbb_unformatted_code) {\n",
       "                             nbb_cells[i].set_text(nbb_formatted_code);\n",
       "                        }\n",
       "                        break;\n",
       "                    }\n",
       "                }\n",
       "            }, 500);\n",
       "            "
      ],
      "text/plain": [
       "<IPython.core.display.Javascript object>"
      ]
     },
     "metadata": {},
     "output_type": "display_data"
    }
   ],
   "source": [
    "from os import listdir\n",
    "from os.path import isfile, join\n",
    "\n",
    "loc = os.path.abspath(\"\")\n",
    "data_loc = f\"{loc}/data\""
   ]
  },
  {
   "cell_type": "markdown",
   "metadata": {},
   "source": [
    "Check data loading time and memory usage..."
   ]
  },
  {
   "cell_type": "code",
   "execution_count": 11,
   "metadata": {},
   "outputs": [
    {
     "name": "stdout",
     "output_type": "stream",
     "text": [
      "CPU times: user 8.53 s, sys: 4.91 s, total: 13.4 s\n",
      "Wall time: 1.51 s\n"
     ]
    },
    {
     "data": {
      "application/javascript": [
       "\n",
       "            setTimeout(function() {\n",
       "                var nbb_cell_id = 11;\n",
       "                var nbb_unformatted_code = \"%%time\\ntrain_id = pd.read_parquet(f\\\"{data_loc}/train_identity.parquet.gzip\\\")\\ntrain_tr = pd.read_parquet(f\\\"{data_loc}/train_transaction.parquet.gzip\\\")\\ntest_id = pd.read_parquet(f\\\"{data_loc}/test_identity.parquet.gzip\\\")\\ntest_tr = pd.read_parquet(f\\\"{data_loc}/test_transaction.parquet.gzip\\\")\";\n",
       "                var nbb_formatted_code = \"%%time\\ntrain_id = pd.read_parquet(f\\\"{data_loc}/train_identity.parquet.gzip\\\")\\ntrain_tr = pd.read_parquet(f\\\"{data_loc}/train_transaction.parquet.gzip\\\")\\ntest_id = pd.read_parquet(f\\\"{data_loc}/test_identity.parquet.gzip\\\")\\ntest_tr = pd.read_parquet(f\\\"{data_loc}/test_transaction.parquet.gzip\\\")\";\n",
       "                var nbb_cells = Jupyter.notebook.get_cells();\n",
       "                for (var i = 0; i < nbb_cells.length; ++i) {\n",
       "                    if (nbb_cells[i].input_prompt_number == nbb_cell_id) {\n",
       "                        if (nbb_cells[i].get_text() == nbb_unformatted_code) {\n",
       "                             nbb_cells[i].set_text(nbb_formatted_code);\n",
       "                        }\n",
       "                        break;\n",
       "                    }\n",
       "                }\n",
       "            }, 500);\n",
       "            "
      ],
      "text/plain": [
       "<IPython.core.display.Javascript object>"
      ]
     },
     "metadata": {},
     "output_type": "display_data"
    }
   ],
   "source": [
    "%%time\n",
    "train_id = pd.read_parquet(f\"{data_loc}/train_identity.parquet.gzip\")\n",
    "train_tr = pd.read_parquet(f\"{data_loc}/train_transaction.parquet.gzip\")\n",
    "test_id = pd.read_parquet(f\"{data_loc}/test_identity.parquet.gzip\")\n",
    "test_tr = pd.read_parquet(f\"{data_loc}/test_transaction.parquet.gzip\")"
   ]
  },
  {
   "cell_type": "code",
   "execution_count": 24,
   "metadata": {},
   "outputs": [
    {
     "data": {
      "application/javascript": [
       "\n",
       "            setTimeout(function() {\n",
       "                var nbb_cell_id = 24;\n",
       "                var nbb_unformatted_code = \"train = pd.merge(\\n    train_tr,\\n    train_id,\\n    how=\\\"left\\\",\\n    on=\\\"TransactionID\\\",\\n    left_index=True,\\n    right_index=True,\\n)\";\n",
       "                var nbb_formatted_code = \"train = pd.merge(\\n    train_tr,\\n    train_id,\\n    how=\\\"left\\\",\\n    on=\\\"TransactionID\\\",\\n    left_index=True,\\n    right_index=True,\\n)\";\n",
       "                var nbb_cells = Jupyter.notebook.get_cells();\n",
       "                for (var i = 0; i < nbb_cells.length; ++i) {\n",
       "                    if (nbb_cells[i].input_prompt_number == nbb_cell_id) {\n",
       "                        if (nbb_cells[i].get_text() == nbb_unformatted_code) {\n",
       "                             nbb_cells[i].set_text(nbb_formatted_code);\n",
       "                        }\n",
       "                        break;\n",
       "                    }\n",
       "                }\n",
       "            }, 500);\n",
       "            "
      ],
      "text/plain": [
       "<IPython.core.display.Javascript object>"
      ]
     },
     "metadata": {},
     "output_type": "display_data"
    }
   ],
   "source": [
    "train = pd.merge(\n",
    "    train_tr,\n",
    "    train_id,\n",
    "    how=\"left\",\n",
    "    on=\"TransactionID\",\n",
    "    left_index=True,\n",
    "    right_index=True,\n",
    ")"
   ]
  },
  {
   "cell_type": "code",
   "execution_count": 25,
   "metadata": {},
   "outputs": [
    {
     "data": {
      "application/javascript": [
       "\n",
       "            setTimeout(function() {\n",
       "                var nbb_cell_id = 25;\n",
       "                var nbb_unformatted_code = \"test = pd.merge(\\n    test_tr, test_id, how=\\\"left\\\", on=\\\"TransactionID\\\", left_index=True, right_index=True\\n)\";\n",
       "                var nbb_formatted_code = \"test = pd.merge(\\n    test_tr, test_id, how=\\\"left\\\", on=\\\"TransactionID\\\", left_index=True, right_index=True\\n)\";\n",
       "                var nbb_cells = Jupyter.notebook.get_cells();\n",
       "                for (var i = 0; i < nbb_cells.length; ++i) {\n",
       "                    if (nbb_cells[i].input_prompt_number == nbb_cell_id) {\n",
       "                        if (nbb_cells[i].get_text() == nbb_unformatted_code) {\n",
       "                             nbb_cells[i].set_text(nbb_formatted_code);\n",
       "                        }\n",
       "                        break;\n",
       "                    }\n",
       "                }\n",
       "            }, 500);\n",
       "            "
      ],
      "text/plain": [
       "<IPython.core.display.Javascript object>"
      ]
     },
     "metadata": {},
     "output_type": "display_data"
    }
   ],
   "source": [
    "test = pd.merge(\n",
    "    test_tr, test_id, how=\"left\", on=\"TransactionID\", left_index=True, right_index=True\n",
    ")"
   ]
  },
  {
   "cell_type": "code",
   "execution_count": 26,
   "metadata": {},
   "outputs": [
    {
     "name": "stdout",
     "output_type": "stream",
     "text": [
      "Train shape: (590540, 434), Test shape: (506691, 433)\n"
     ]
    },
    {
     "data": {
      "application/javascript": [
       "\n",
       "            setTimeout(function() {\n",
       "                var nbb_cell_id = 26;\n",
       "                var nbb_unformatted_code = \"print(f\\\"Train shape: {train.shape}, Test shape: {test.shape}\\\")\";\n",
       "                var nbb_formatted_code = \"print(f\\\"Train shape: {train.shape}, Test shape: {test.shape}\\\")\";\n",
       "                var nbb_cells = Jupyter.notebook.get_cells();\n",
       "                for (var i = 0; i < nbb_cells.length; ++i) {\n",
       "                    if (nbb_cells[i].input_prompt_number == nbb_cell_id) {\n",
       "                        if (nbb_cells[i].get_text() == nbb_unformatted_code) {\n",
       "                             nbb_cells[i].set_text(nbb_formatted_code);\n",
       "                        }\n",
       "                        break;\n",
       "                    }\n",
       "                }\n",
       "            }, 500);\n",
       "            "
      ],
      "text/plain": [
       "<IPython.core.display.Javascript object>"
      ]
     },
     "metadata": {},
     "output_type": "display_data"
    }
   ],
   "source": [
    "print(f\"Train shape: {train.shape}, Test shape: {test.shape}\")"
   ]
  },
  {
   "cell_type": "code",
   "execution_count": 27,
   "metadata": {},
   "outputs": [
    {
     "data": {
      "application/javascript": [
       "\n",
       "            setTimeout(function() {\n",
       "                var nbb_cell_id = 27;\n",
       "                var nbb_unformatted_code = \"imp_features = [\\n    \\\"TransactionAmt\\\",\\n    \\\"ProductCD\\\",\\n    \\\"card1\\\",\\n    \\\"card2\\\",\\n    \\\"card3\\\",\\n    \\\"card5\\\",\\n    \\\"card6\\\",\\n    \\\"addr1\\\",\\n    \\\"addr2\\\",\\n    \\\"dist1\\\",\\n    \\\"dist2\\\",\\n    \\\"P_emaildomain\\\",\\n    \\\"R_emaildomain\\\",\\n    \\\"C1\\\",\\n    \\\"C2\\\",\\n    \\\"C4\\\",\\n    \\\"C5\\\",\\n    \\\"C6\\\",\\n    \\\"C7\\\",\\n    \\\"C8\\\",\\n    \\\"C9\\\",\\n    \\\"C10\\\",\\n    \\\"C11\\\",\\n    \\\"C12\\\",\\n    \\\"C13\\\",\\n    \\\"C14\\\",\\n    \\\"D1\\\",\\n    \\\"D2\\\",\\n    \\\"D3\\\",\\n    \\\"D4\\\",\\n    \\\"D5\\\",\\n    \\\"D10\\\",\\n    \\\"D11\\\",\\n    \\\"D15\\\",\\n    \\\"M1\\\",\\n    \\\"M2\\\",\\n    \\\"M3\\\",\\n    \\\"M4\\\",\\n    \\\"M6\\\",\\n    \\\"M7\\\",\\n    \\\"M8\\\",\\n    \\\"M9\\\",\\n    \\\"V1\\\",\\n    \\\"V3\\\",\\n    \\\"V4\\\",\\n    \\\"V6\\\",\\n    \\\"V8\\\",\\n    \\\"V11\\\",\\n    \\\"V13\\\",\\n    \\\"V14\\\",\\n    \\\"V17\\\",\\n    \\\"V20\\\",\\n    \\\"V23\\\",\\n    \\\"V26\\\",\\n    \\\"V27\\\",\\n    \\\"V30\\\",\\n    \\\"V36\\\",\\n    \\\"V37\\\",\\n    \\\"V40\\\",\\n    \\\"V41\\\",\\n    \\\"V44\\\",\\n    \\\"V47\\\",\\n    \\\"V48\\\",\\n    \\\"V54\\\",\\n    \\\"V56\\\",\\n    \\\"V59\\\",\\n    \\\"V62\\\",\\n    \\\"V65\\\",\\n    \\\"V67\\\",\\n    \\\"V68\\\",\\n    \\\"V70\\\",\\n    \\\"V76\\\",\\n    \\\"V78\\\",\\n    \\\"V80\\\",\\n    \\\"V82\\\",\\n    \\\"V86\\\",\\n    \\\"V88\\\",\\n    \\\"V89\\\",\\n    \\\"V91\\\",\\n    \\\"V107\\\",\\n    \\\"V108\\\",\\n    \\\"V111\\\",\\n    \\\"V115\\\",\\n    \\\"V117\\\",\\n    \\\"V120\\\",\\n    \\\"V121\\\",\\n    \\\"V123\\\",\\n    \\\"V124\\\",\\n    \\\"V127\\\",\\n    \\\"V129\\\",\\n    \\\"V130\\\",\\n    \\\"V136\\\",\\n    \\\"V138\\\",\\n    \\\"V139\\\",\\n    \\\"V142\\\",\\n    \\\"V147\\\",\\n    \\\"V156\\\",\\n    \\\"V160\\\",\\n    \\\"V162\\\",\\n    \\\"V165\\\",\\n    \\\"V166\\\",\\n    \\\"V169\\\",\\n    \\\"V171\\\",\\n    \\\"V173\\\",\\n    \\\"V175\\\",\\n    \\\"V176\\\",\\n    \\\"V178\\\",\\n    \\\"V180\\\",\\n    \\\"V182\\\",\\n    \\\"V185\\\",\\n    \\\"V187\\\",\\n    \\\"V188\\\",\\n    \\\"V198\\\",\\n    \\\"V203\\\",\\n    \\\"V205\\\",\\n    \\\"V207\\\",\\n    \\\"V209\\\",\\n    \\\"V210\\\",\\n    \\\"V215\\\",\\n    \\\"V218\\\",\\n    \\\"V220\\\",\\n    \\\"V221\\\",\\n    \\\"V223\\\",\\n    \\\"V224\\\",\\n    \\\"V226\\\",\\n    \\\"V228\\\",\\n    \\\"V229\\\",\\n    \\\"V234\\\",\\n    \\\"V235\\\",\\n    \\\"V238\\\",\\n    \\\"V240\\\",\\n    \\\"V250\\\",\\n    \\\"V252\\\",\\n    \\\"V253\\\",\\n    \\\"V257\\\",\\n    \\\"V258\\\",\\n    \\\"V260\\\",\\n    \\\"V261\\\",\\n    \\\"V264\\\",\\n    \\\"V266\\\",\\n    \\\"V267\\\",\\n    \\\"V271\\\",\\n    \\\"V274\\\",\\n    \\\"V277\\\",\\n    \\\"V281\\\",\\n    \\\"V283\\\",\\n    \\\"V284\\\",\\n    \\\"V285\\\",\\n    \\\"V286\\\",\\n    \\\"V289\\\",\\n    \\\"V291\\\",\\n    \\\"V294\\\",\\n    \\\"V296\\\",\\n    \\\"V297\\\",\\n    \\\"V301\\\",\\n    \\\"V303\\\",\\n    \\\"V305\\\",\\n    \\\"V307\\\",\\n    \\\"V309\\\",\\n    \\\"V310\\\",\\n    \\\"V314\\\",\\n    \\\"V320\\\",\\n    \\\"DeviceType\\\",\\n    \\\"DeviceInfo\\\",\\n    \\\"isFraud\\\",\\n]\";\n",
       "                var nbb_formatted_code = \"imp_features = [\\n    \\\"TransactionAmt\\\",\\n    \\\"ProductCD\\\",\\n    \\\"card1\\\",\\n    \\\"card2\\\",\\n    \\\"card3\\\",\\n    \\\"card5\\\",\\n    \\\"card6\\\",\\n    \\\"addr1\\\",\\n    \\\"addr2\\\",\\n    \\\"dist1\\\",\\n    \\\"dist2\\\",\\n    \\\"P_emaildomain\\\",\\n    \\\"R_emaildomain\\\",\\n    \\\"C1\\\",\\n    \\\"C2\\\",\\n    \\\"C4\\\",\\n    \\\"C5\\\",\\n    \\\"C6\\\",\\n    \\\"C7\\\",\\n    \\\"C8\\\",\\n    \\\"C9\\\",\\n    \\\"C10\\\",\\n    \\\"C11\\\",\\n    \\\"C12\\\",\\n    \\\"C13\\\",\\n    \\\"C14\\\",\\n    \\\"D1\\\",\\n    \\\"D2\\\",\\n    \\\"D3\\\",\\n    \\\"D4\\\",\\n    \\\"D5\\\",\\n    \\\"D10\\\",\\n    \\\"D11\\\",\\n    \\\"D15\\\",\\n    \\\"M1\\\",\\n    \\\"M2\\\",\\n    \\\"M3\\\",\\n    \\\"M4\\\",\\n    \\\"M6\\\",\\n    \\\"M7\\\",\\n    \\\"M8\\\",\\n    \\\"M9\\\",\\n    \\\"V1\\\",\\n    \\\"V3\\\",\\n    \\\"V4\\\",\\n    \\\"V6\\\",\\n    \\\"V8\\\",\\n    \\\"V11\\\",\\n    \\\"V13\\\",\\n    \\\"V14\\\",\\n    \\\"V17\\\",\\n    \\\"V20\\\",\\n    \\\"V23\\\",\\n    \\\"V26\\\",\\n    \\\"V27\\\",\\n    \\\"V30\\\",\\n    \\\"V36\\\",\\n    \\\"V37\\\",\\n    \\\"V40\\\",\\n    \\\"V41\\\",\\n    \\\"V44\\\",\\n    \\\"V47\\\",\\n    \\\"V48\\\",\\n    \\\"V54\\\",\\n    \\\"V56\\\",\\n    \\\"V59\\\",\\n    \\\"V62\\\",\\n    \\\"V65\\\",\\n    \\\"V67\\\",\\n    \\\"V68\\\",\\n    \\\"V70\\\",\\n    \\\"V76\\\",\\n    \\\"V78\\\",\\n    \\\"V80\\\",\\n    \\\"V82\\\",\\n    \\\"V86\\\",\\n    \\\"V88\\\",\\n    \\\"V89\\\",\\n    \\\"V91\\\",\\n    \\\"V107\\\",\\n    \\\"V108\\\",\\n    \\\"V111\\\",\\n    \\\"V115\\\",\\n    \\\"V117\\\",\\n    \\\"V120\\\",\\n    \\\"V121\\\",\\n    \\\"V123\\\",\\n    \\\"V124\\\",\\n    \\\"V127\\\",\\n    \\\"V129\\\",\\n    \\\"V130\\\",\\n    \\\"V136\\\",\\n    \\\"V138\\\",\\n    \\\"V139\\\",\\n    \\\"V142\\\",\\n    \\\"V147\\\",\\n    \\\"V156\\\",\\n    \\\"V160\\\",\\n    \\\"V162\\\",\\n    \\\"V165\\\",\\n    \\\"V166\\\",\\n    \\\"V169\\\",\\n    \\\"V171\\\",\\n    \\\"V173\\\",\\n    \\\"V175\\\",\\n    \\\"V176\\\",\\n    \\\"V178\\\",\\n    \\\"V180\\\",\\n    \\\"V182\\\",\\n    \\\"V185\\\",\\n    \\\"V187\\\",\\n    \\\"V188\\\",\\n    \\\"V198\\\",\\n    \\\"V203\\\",\\n    \\\"V205\\\",\\n    \\\"V207\\\",\\n    \\\"V209\\\",\\n    \\\"V210\\\",\\n    \\\"V215\\\",\\n    \\\"V218\\\",\\n    \\\"V220\\\",\\n    \\\"V221\\\",\\n    \\\"V223\\\",\\n    \\\"V224\\\",\\n    \\\"V226\\\",\\n    \\\"V228\\\",\\n    \\\"V229\\\",\\n    \\\"V234\\\",\\n    \\\"V235\\\",\\n    \\\"V238\\\",\\n    \\\"V240\\\",\\n    \\\"V250\\\",\\n    \\\"V252\\\",\\n    \\\"V253\\\",\\n    \\\"V257\\\",\\n    \\\"V258\\\",\\n    \\\"V260\\\",\\n    \\\"V261\\\",\\n    \\\"V264\\\",\\n    \\\"V266\\\",\\n    \\\"V267\\\",\\n    \\\"V271\\\",\\n    \\\"V274\\\",\\n    \\\"V277\\\",\\n    \\\"V281\\\",\\n    \\\"V283\\\",\\n    \\\"V284\\\",\\n    \\\"V285\\\",\\n    \\\"V286\\\",\\n    \\\"V289\\\",\\n    \\\"V291\\\",\\n    \\\"V294\\\",\\n    \\\"V296\\\",\\n    \\\"V297\\\",\\n    \\\"V301\\\",\\n    \\\"V303\\\",\\n    \\\"V305\\\",\\n    \\\"V307\\\",\\n    \\\"V309\\\",\\n    \\\"V310\\\",\\n    \\\"V314\\\",\\n    \\\"V320\\\",\\n    \\\"DeviceType\\\",\\n    \\\"DeviceInfo\\\",\\n    \\\"isFraud\\\",\\n]\";\n",
       "                var nbb_cells = Jupyter.notebook.get_cells();\n",
       "                for (var i = 0; i < nbb_cells.length; ++i) {\n",
       "                    if (nbb_cells[i].input_prompt_number == nbb_cell_id) {\n",
       "                        if (nbb_cells[i].get_text() == nbb_unformatted_code) {\n",
       "                             nbb_cells[i].set_text(nbb_formatted_code);\n",
       "                        }\n",
       "                        break;\n",
       "                    }\n",
       "                }\n",
       "            }, 500);\n",
       "            "
      ],
      "text/plain": [
       "<IPython.core.display.Javascript object>"
      ]
     },
     "metadata": {},
     "output_type": "display_data"
    }
   ],
   "source": [
    "imp_features = [\n",
    "    \"TransactionAmt\",\n",
    "    \"ProductCD\",\n",
    "    \"card1\",\n",
    "    \"card2\",\n",
    "    \"card3\",\n",
    "    \"card5\",\n",
    "    \"card6\",\n",
    "    \"addr1\",\n",
    "    \"addr2\",\n",
    "    \"dist1\",\n",
    "    \"dist2\",\n",
    "    \"P_emaildomain\",\n",
    "    \"R_emaildomain\",\n",
    "    \"C1\",\n",
    "    \"C2\",\n",
    "    \"C4\",\n",
    "    \"C5\",\n",
    "    \"C6\",\n",
    "    \"C7\",\n",
    "    \"C8\",\n",
    "    \"C9\",\n",
    "    \"C10\",\n",
    "    \"C11\",\n",
    "    \"C12\",\n",
    "    \"C13\",\n",
    "    \"C14\",\n",
    "    \"D1\",\n",
    "    \"D2\",\n",
    "    \"D3\",\n",
    "    \"D4\",\n",
    "    \"D5\",\n",
    "    \"D10\",\n",
    "    \"D11\",\n",
    "    \"D15\",\n",
    "    \"M1\",\n",
    "    \"M2\",\n",
    "    \"M3\",\n",
    "    \"M4\",\n",
    "    \"M6\",\n",
    "    \"M7\",\n",
    "    \"M8\",\n",
    "    \"M9\",\n",
    "    \"V1\",\n",
    "    \"V3\",\n",
    "    \"V4\",\n",
    "    \"V6\",\n",
    "    \"V8\",\n",
    "    \"V11\",\n",
    "    \"V13\",\n",
    "    \"V14\",\n",
    "    \"V17\",\n",
    "    \"V20\",\n",
    "    \"V23\",\n",
    "    \"V26\",\n",
    "    \"V27\",\n",
    "    \"V30\",\n",
    "    \"V36\",\n",
    "    \"V37\",\n",
    "    \"V40\",\n",
    "    \"V41\",\n",
    "    \"V44\",\n",
    "    \"V47\",\n",
    "    \"V48\",\n",
    "    \"V54\",\n",
    "    \"V56\",\n",
    "    \"V59\",\n",
    "    \"V62\",\n",
    "    \"V65\",\n",
    "    \"V67\",\n",
    "    \"V68\",\n",
    "    \"V70\",\n",
    "    \"V76\",\n",
    "    \"V78\",\n",
    "    \"V80\",\n",
    "    \"V82\",\n",
    "    \"V86\",\n",
    "    \"V88\",\n",
    "    \"V89\",\n",
    "    \"V91\",\n",
    "    \"V107\",\n",
    "    \"V108\",\n",
    "    \"V111\",\n",
    "    \"V115\",\n",
    "    \"V117\",\n",
    "    \"V120\",\n",
    "    \"V121\",\n",
    "    \"V123\",\n",
    "    \"V124\",\n",
    "    \"V127\",\n",
    "    \"V129\",\n",
    "    \"V130\",\n",
    "    \"V136\",\n",
    "    \"V138\",\n",
    "    \"V139\",\n",
    "    \"V142\",\n",
    "    \"V147\",\n",
    "    \"V156\",\n",
    "    \"V160\",\n",
    "    \"V162\",\n",
    "    \"V165\",\n",
    "    \"V166\",\n",
    "    \"V169\",\n",
    "    \"V171\",\n",
    "    \"V173\",\n",
    "    \"V175\",\n",
    "    \"V176\",\n",
    "    \"V178\",\n",
    "    \"V180\",\n",
    "    \"V182\",\n",
    "    \"V185\",\n",
    "    \"V187\",\n",
    "    \"V188\",\n",
    "    \"V198\",\n",
    "    \"V203\",\n",
    "    \"V205\",\n",
    "    \"V207\",\n",
    "    \"V209\",\n",
    "    \"V210\",\n",
    "    \"V215\",\n",
    "    \"V218\",\n",
    "    \"V220\",\n",
    "    \"V221\",\n",
    "    \"V223\",\n",
    "    \"V224\",\n",
    "    \"V226\",\n",
    "    \"V228\",\n",
    "    \"V229\",\n",
    "    \"V234\",\n",
    "    \"V235\",\n",
    "    \"V238\",\n",
    "    \"V240\",\n",
    "    \"V250\",\n",
    "    \"V252\",\n",
    "    \"V253\",\n",
    "    \"V257\",\n",
    "    \"V258\",\n",
    "    \"V260\",\n",
    "    \"V261\",\n",
    "    \"V264\",\n",
    "    \"V266\",\n",
    "    \"V267\",\n",
    "    \"V271\",\n",
    "    \"V274\",\n",
    "    \"V277\",\n",
    "    \"V281\",\n",
    "    \"V283\",\n",
    "    \"V284\",\n",
    "    \"V285\",\n",
    "    \"V286\",\n",
    "    \"V289\",\n",
    "    \"V291\",\n",
    "    \"V294\",\n",
    "    \"V296\",\n",
    "    \"V297\",\n",
    "    \"V301\",\n",
    "    \"V303\",\n",
    "    \"V305\",\n",
    "    \"V307\",\n",
    "    \"V309\",\n",
    "    \"V310\",\n",
    "    \"V314\",\n",
    "    \"V320\",\n",
    "    \"DeviceType\",\n",
    "    \"DeviceInfo\",\n",
    "    \"isFraud\",\n",
    "]"
   ]
  },
  {
   "cell_type": "code",
   "execution_count": 28,
   "metadata": {},
   "outputs": [
    {
     "data": {
      "text/plain": [
       "165"
      ]
     },
     "execution_count": 28,
     "metadata": {},
     "output_type": "execute_result"
    },
    {
     "data": {
      "application/javascript": [
       "\n",
       "            setTimeout(function() {\n",
       "                var nbb_cell_id = 28;\n",
       "                var nbb_unformatted_code = \"len(imp_features)\";\n",
       "                var nbb_formatted_code = \"len(imp_features)\";\n",
       "                var nbb_cells = Jupyter.notebook.get_cells();\n",
       "                for (var i = 0; i < nbb_cells.length; ++i) {\n",
       "                    if (nbb_cells[i].input_prompt_number == nbb_cell_id) {\n",
       "                        if (nbb_cells[i].get_text() == nbb_unformatted_code) {\n",
       "                             nbb_cells[i].set_text(nbb_formatted_code);\n",
       "                        }\n",
       "                        break;\n",
       "                    }\n",
       "                }\n",
       "            }, 500);\n",
       "            "
      ],
      "text/plain": [
       "<IPython.core.display.Javascript object>"
      ]
     },
     "metadata": {},
     "output_type": "display_data"
    }
   ],
   "source": [
    "len(imp_features)"
   ]
  },
  {
   "cell_type": "code",
   "execution_count": 29,
   "metadata": {},
   "outputs": [
    {
     "name": "stdout",
     "output_type": "stream",
     "text": [
      "269 features from train are going to be dropped.\n",
      "269 features from test are going to be dropped.\n"
     ]
    },
    {
     "data": {
      "application/javascript": [
       "\n",
       "            setTimeout(function() {\n",
       "                var nbb_cell_id = 29;\n",
       "                var nbb_unformatted_code = \"cols_to_drop_train = [col for col in train.columns if col not in imp_features]\\ncols_to_drop_test = [col for col in test.columns if col not in imp_features]\\n\\nprint(f\\\"{len(cols_to_drop_train)} features from train are going to be dropped.\\\")\\nprint(f\\\"{len(cols_to_drop_test)} features from test are going to be dropped.\\\")\";\n",
       "                var nbb_formatted_code = \"cols_to_drop_train = [col for col in train.columns if col not in imp_features]\\ncols_to_drop_test = [col for col in test.columns if col not in imp_features]\\n\\nprint(f\\\"{len(cols_to_drop_train)} features from train are going to be dropped.\\\")\\nprint(f\\\"{len(cols_to_drop_test)} features from test are going to be dropped.\\\")\";\n",
       "                var nbb_cells = Jupyter.notebook.get_cells();\n",
       "                for (var i = 0; i < nbb_cells.length; ++i) {\n",
       "                    if (nbb_cells[i].input_prompt_number == nbb_cell_id) {\n",
       "                        if (nbb_cells[i].get_text() == nbb_unformatted_code) {\n",
       "                             nbb_cells[i].set_text(nbb_formatted_code);\n",
       "                        }\n",
       "                        break;\n",
       "                    }\n",
       "                }\n",
       "            }, 500);\n",
       "            "
      ],
      "text/plain": [
       "<IPython.core.display.Javascript object>"
      ]
     },
     "metadata": {},
     "output_type": "display_data"
    }
   ],
   "source": [
    "cols_to_drop_train = [col for col in train.columns if col not in imp_features]\n",
    "cols_to_drop_test = [col for col in test.columns if col not in imp_features]\n",
    "\n",
    "print(f\"{len(cols_to_drop_train)} features from train are going to be dropped.\")\n",
    "print(f\"{len(cols_to_drop_test)} features from test are going to be dropped.\")"
   ]
  },
  {
   "cell_type": "code",
   "execution_count": 30,
   "metadata": {},
   "outputs": [
    {
     "data": {
      "application/javascript": [
       "\n",
       "            setTimeout(function() {\n",
       "                var nbb_cell_id = 30;\n",
       "                var nbb_unformatted_code = \"train = train.drop(cols_to_drop_train, axis=1)\\ntest = test.drop(cols_to_drop_test, axis=1)\";\n",
       "                var nbb_formatted_code = \"train = train.drop(cols_to_drop_train, axis=1)\\ntest = test.drop(cols_to_drop_test, axis=1)\";\n",
       "                var nbb_cells = Jupyter.notebook.get_cells();\n",
       "                for (var i = 0; i < nbb_cells.length; ++i) {\n",
       "                    if (nbb_cells[i].input_prompt_number == nbb_cell_id) {\n",
       "                        if (nbb_cells[i].get_text() == nbb_unformatted_code) {\n",
       "                             nbb_cells[i].set_text(nbb_formatted_code);\n",
       "                        }\n",
       "                        break;\n",
       "                    }\n",
       "                }\n",
       "            }, 500);\n",
       "            "
      ],
      "text/plain": [
       "<IPython.core.display.Javascript object>"
      ]
     },
     "metadata": {},
     "output_type": "display_data"
    }
   ],
   "source": [
    "train = train.drop(cols_to_drop_train, axis=1)\n",
    "test = test.drop(cols_to_drop_test, axis=1)"
   ]
  },
  {
   "cell_type": "code",
   "execution_count": 31,
   "metadata": {},
   "outputs": [
    {
     "data": {
      "application/javascript": [
       "\n",
       "            setTimeout(function() {\n",
       "                var nbb_cell_id = 31;\n",
       "                var nbb_unformatted_code = \"def clean_inf_nan(df):\\n    return df.replace([np.inf, -np.inf], np.nan)\";\n",
       "                var nbb_formatted_code = \"def clean_inf_nan(df):\\n    return df.replace([np.inf, -np.inf], np.nan)\";\n",
       "                var nbb_cells = Jupyter.notebook.get_cells();\n",
       "                for (var i = 0; i < nbb_cells.length; ++i) {\n",
       "                    if (nbb_cells[i].input_prompt_number == nbb_cell_id) {\n",
       "                        if (nbb_cells[i].get_text() == nbb_unformatted_code) {\n",
       "                             nbb_cells[i].set_text(nbb_formatted_code);\n",
       "                        }\n",
       "                        break;\n",
       "                    }\n",
       "                }\n",
       "            }, 500);\n",
       "            "
      ],
      "text/plain": [
       "<IPython.core.display.Javascript object>"
      ]
     },
     "metadata": {},
     "output_type": "display_data"
    }
   ],
   "source": [
    "def clean_inf_nan(df):\n",
    "    return df.replace([np.inf, -np.inf], np.nan)"
   ]
  },
  {
   "cell_type": "code",
   "execution_count": 32,
   "metadata": {},
   "outputs": [
    {
     "data": {
      "application/javascript": [
       "\n",
       "            setTimeout(function() {\n",
       "                var nbb_cell_id = 32;\n",
       "                var nbb_unformatted_code = \"train = clean_inf_nan(train)\\ntest = clean_inf_nan(test)\";\n",
       "                var nbb_formatted_code = \"train = clean_inf_nan(train)\\ntest = clean_inf_nan(test)\";\n",
       "                var nbb_cells = Jupyter.notebook.get_cells();\n",
       "                for (var i = 0; i < nbb_cells.length; ++i) {\n",
       "                    if (nbb_cells[i].input_prompt_number == nbb_cell_id) {\n",
       "                        if (nbb_cells[i].get_text() == nbb_unformatted_code) {\n",
       "                             nbb_cells[i].set_text(nbb_formatted_code);\n",
       "                        }\n",
       "                        break;\n",
       "                    }\n",
       "                }\n",
       "            }, 500);\n",
       "            "
      ],
      "text/plain": [
       "<IPython.core.display.Javascript object>"
      ]
     },
     "metadata": {},
     "output_type": "display_data"
    }
   ],
   "source": [
    "train = clean_inf_nan(train)\n",
    "test = clean_inf_nan(test)"
   ]
  },
  {
   "cell_type": "code",
   "execution_count": 33,
   "metadata": {},
   "outputs": [
    {
     "data": {
      "application/javascript": [
       "\n",
       "            setTimeout(function() {\n",
       "                var nbb_cell_id = 33;\n",
       "                var nbb_unformatted_code = \"train.fillna(0, inplace=True)\\ntest.fillna(0, inplace=True)\";\n",
       "                var nbb_formatted_code = \"train.fillna(0, inplace=True)\\ntest.fillna(0, inplace=True)\";\n",
       "                var nbb_cells = Jupyter.notebook.get_cells();\n",
       "                for (var i = 0; i < nbb_cells.length; ++i) {\n",
       "                    if (nbb_cells[i].input_prompt_number == nbb_cell_id) {\n",
       "                        if (nbb_cells[i].get_text() == nbb_unformatted_code) {\n",
       "                             nbb_cells[i].set_text(nbb_formatted_code);\n",
       "                        }\n",
       "                        break;\n",
       "                    }\n",
       "                }\n",
       "            }, 500);\n",
       "            "
      ],
      "text/plain": [
       "<IPython.core.display.Javascript object>"
      ]
     },
     "metadata": {},
     "output_type": "display_data"
    }
   ],
   "source": [
    "train.fillna(0, inplace=True)\n",
    "test.fillna(0, inplace=True)"
   ]
  },
  {
   "cell_type": "code",
   "execution_count": 34,
   "metadata": {},
   "outputs": [
    {
     "data": {
      "application/javascript": [
       "\n",
       "            setTimeout(function() {\n",
       "                var nbb_cell_id = 34;\n",
       "                var nbb_unformatted_code = \"for col in train.columns:\\n    if train[col].dtype == \\\"object\\\":\\n        le = LabelEncoder()\\n        le.fit(list(train[col].astype(str).values) + list(test[col].astype(str).values))\\n        train[col] = le.transform(list(train[col].astype(str).values))\\n        test[col] = le.transform(list(test[col].astype(str).values))\";\n",
       "                var nbb_formatted_code = \"for col in train.columns:\\n    if train[col].dtype == \\\"object\\\":\\n        le = LabelEncoder()\\n        le.fit(list(train[col].astype(str).values) + list(test[col].astype(str).values))\\n        train[col] = le.transform(list(train[col].astype(str).values))\\n        test[col] = le.transform(list(test[col].astype(str).values))\";\n",
       "                var nbb_cells = Jupyter.notebook.get_cells();\n",
       "                for (var i = 0; i < nbb_cells.length; ++i) {\n",
       "                    if (nbb_cells[i].input_prompt_number == nbb_cell_id) {\n",
       "                        if (nbb_cells[i].get_text() == nbb_unformatted_code) {\n",
       "                             nbb_cells[i].set_text(nbb_formatted_code);\n",
       "                        }\n",
       "                        break;\n",
       "                    }\n",
       "                }\n",
       "            }, 500);\n",
       "            "
      ],
      "text/plain": [
       "<IPython.core.display.Javascript object>"
      ]
     },
     "metadata": {},
     "output_type": "display_data"
    }
   ],
   "source": [
    "for col in train.columns:\n",
    "    if train[col].dtype == \"object\":\n",
    "        le = LabelEncoder()\n",
    "        le.fit(list(train[col].astype(str).values) + list(test[col].astype(str).values))\n",
    "        train[col] = le.transform(list(train[col].astype(str).values))\n",
    "        test[col] = le.transform(list(test[col].astype(str).values))"
   ]
  },
  {
   "cell_type": "code",
   "execution_count": 35,
   "metadata": {},
   "outputs": [
    {
     "name": "stdout",
     "output_type": "stream",
     "text": [
      "(590540, 165)\n",
      "(506691, 164)\n"
     ]
    },
    {
     "data": {
      "application/javascript": [
       "\n",
       "            setTimeout(function() {\n",
       "                var nbb_cell_id = 35;\n",
       "                var nbb_unformatted_code = \"print(train.shape)\\nprint(test.shape)\";\n",
       "                var nbb_formatted_code = \"print(train.shape)\\nprint(test.shape)\";\n",
       "                var nbb_cells = Jupyter.notebook.get_cells();\n",
       "                for (var i = 0; i < nbb_cells.length; ++i) {\n",
       "                    if (nbb_cells[i].input_prompt_number == nbb_cell_id) {\n",
       "                        if (nbb_cells[i].get_text() == nbb_unformatted_code) {\n",
       "                             nbb_cells[i].set_text(nbb_formatted_code);\n",
       "                        }\n",
       "                        break;\n",
       "                    }\n",
       "                }\n",
       "            }, 500);\n",
       "            "
      ],
      "text/plain": [
       "<IPython.core.display.Javascript object>"
      ]
     },
     "metadata": {},
     "output_type": "display_data"
    }
   ],
   "source": [
    "print(train.shape)\n",
    "print(test.shape)"
   ]
  },
  {
   "cell_type": "code",
   "execution_count": 36,
   "metadata": {},
   "outputs": [
    {
     "data": {
      "application/javascript": [
       "\n",
       "            setTimeout(function() {\n",
       "                var nbb_cell_id = 36;\n",
       "                var nbb_unformatted_code = \"X_train = train.drop(\\\"isFraud\\\", axis=1).copy()\\nX_test = test.copy()\\ny_train = train[\\\"isFraud\\\"].copy()\";\n",
       "                var nbb_formatted_code = \"X_train = train.drop(\\\"isFraud\\\", axis=1).copy()\\nX_test = test.copy()\\ny_train = train[\\\"isFraud\\\"].copy()\";\n",
       "                var nbb_cells = Jupyter.notebook.get_cells();\n",
       "                for (var i = 0; i < nbb_cells.length; ++i) {\n",
       "                    if (nbb_cells[i].input_prompt_number == nbb_cell_id) {\n",
       "                        if (nbb_cells[i].get_text() == nbb_unformatted_code) {\n",
       "                             nbb_cells[i].set_text(nbb_formatted_code);\n",
       "                        }\n",
       "                        break;\n",
       "                    }\n",
       "                }\n",
       "            }, 500);\n",
       "            "
      ],
      "text/plain": [
       "<IPython.core.display.Javascript object>"
      ]
     },
     "metadata": {},
     "output_type": "display_data"
    }
   ],
   "source": [
    "X_train = train.drop(\"isFraud\", axis=1).copy()\n",
    "X_test = test.copy()\n",
    "y_train = train[\"isFraud\"].copy()"
   ]
  },
  {
   "cell_type": "code",
   "execution_count": 37,
   "metadata": {},
   "outputs": [
    {
     "name": "stdout",
     "output_type": "stream",
     "text": [
      "(590540, 164) (506691, 164) (590540,)\n"
     ]
    },
    {
     "data": {
      "application/javascript": [
       "\n",
       "            setTimeout(function() {\n",
       "                var nbb_cell_id = 37;\n",
       "                var nbb_unformatted_code = \"print(X_train.shape, X_test.shape, y_train.shape)\";\n",
       "                var nbb_formatted_code = \"print(X_train.shape, X_test.shape, y_train.shape)\";\n",
       "                var nbb_cells = Jupyter.notebook.get_cells();\n",
       "                for (var i = 0; i < nbb_cells.length; ++i) {\n",
       "                    if (nbb_cells[i].input_prompt_number == nbb_cell_id) {\n",
       "                        if (nbb_cells[i].get_text() == nbb_unformatted_code) {\n",
       "                             nbb_cells[i].set_text(nbb_formatted_code);\n",
       "                        }\n",
       "                        break;\n",
       "                    }\n",
       "                }\n",
       "            }, 500);\n",
       "            "
      ],
      "text/plain": [
       "<IPython.core.display.Javascript object>"
      ]
     },
     "metadata": {},
     "output_type": "display_data"
    }
   ],
   "source": [
    "print(X_train.shape, X_test.shape, y_train.shape)"
   ]
  },
  {
   "cell_type": "code",
   "execution_count": 38,
   "metadata": {},
   "outputs": [
    {
     "data": {
      "application/javascript": [
       "\n",
       "            setTimeout(function() {\n",
       "                var nbb_cell_id = 38;\n",
       "                var nbb_unformatted_code = \"from sklearn.model_selection import train_test_split\\n\\nX_train_split, X_test_split, y_train_split, y_test_split = train_test_split(\\n    X_train, y_train, test_size=0.3, random_state=7\\n)\";\n",
       "                var nbb_formatted_code = \"from sklearn.model_selection import train_test_split\\n\\nX_train_split, X_test_split, y_train_split, y_test_split = train_test_split(\\n    X_train, y_train, test_size=0.3, random_state=7\\n)\";\n",
       "                var nbb_cells = Jupyter.notebook.get_cells();\n",
       "                for (var i = 0; i < nbb_cells.length; ++i) {\n",
       "                    if (nbb_cells[i].input_prompt_number == nbb_cell_id) {\n",
       "                        if (nbb_cells[i].get_text() == nbb_unformatted_code) {\n",
       "                             nbb_cells[i].set_text(nbb_formatted_code);\n",
       "                        }\n",
       "                        break;\n",
       "                    }\n",
       "                }\n",
       "            }, 500);\n",
       "            "
      ],
      "text/plain": [
       "<IPython.core.display.Javascript object>"
      ]
     },
     "metadata": {},
     "output_type": "display_data"
    }
   ],
   "source": [
    "from sklearn.model_selection import train_test_split\n",
    "\n",
    "X_train_split, X_test_split, y_train_split, y_test_split = train_test_split(\n",
    "    X_train, y_train, test_size=0.3, random_state=7\n",
    ")"
   ]
  },
  {
   "cell_type": "markdown",
   "metadata": {},
   "source": [
    "### Simple RandomForest model"
   ]
  },
  {
   "cell_type": "code",
   "execution_count": 39,
   "metadata": {},
   "outputs": [
    {
     "data": {
      "application/javascript": [
       "\n",
       "            setTimeout(function() {\n",
       "                var nbb_cell_id = 39;\n",
       "                var nbb_unformatted_code = \"from sklearn.ensemble import RandomForestClassifier\\n\\nrf = RandomForestClassifier(\\n    max_depth=45, max_features=30, n_estimators=500, n_jobs=-1, min_samples_leaf=200\\n)\";\n",
       "                var nbb_formatted_code = \"from sklearn.ensemble import RandomForestClassifier\\n\\nrf = RandomForestClassifier(\\n    max_depth=45, max_features=30, n_estimators=500, n_jobs=-1, min_samples_leaf=200\\n)\";\n",
       "                var nbb_cells = Jupyter.notebook.get_cells();\n",
       "                for (var i = 0; i < nbb_cells.length; ++i) {\n",
       "                    if (nbb_cells[i].input_prompt_number == nbb_cell_id) {\n",
       "                        if (nbb_cells[i].get_text() == nbb_unformatted_code) {\n",
       "                             nbb_cells[i].set_text(nbb_formatted_code);\n",
       "                        }\n",
       "                        break;\n",
       "                    }\n",
       "                }\n",
       "            }, 500);\n",
       "            "
      ],
      "text/plain": [
       "<IPython.core.display.Javascript object>"
      ]
     },
     "metadata": {},
     "output_type": "display_data"
    }
   ],
   "source": [
    "from sklearn.ensemble import RandomForestClassifier\n",
    "\n",
    "rf = RandomForestClassifier(\n",
    "    max_depth=45, max_features=30, n_estimators=500, n_jobs=-1, min_samples_leaf=200\n",
    ")"
   ]
  },
  {
   "cell_type": "code",
   "execution_count": 40,
   "metadata": {},
   "outputs": [
    {
     "name": "stdout",
     "output_type": "stream",
     "text": [
      "CPU times: user 1h 38min, sys: 41.4 s, total: 1h 38min 42s\n",
      "Wall time: 7min 9s\n"
     ]
    },
    {
     "data": {
      "text/plain": [
       "RandomForestClassifier(bootstrap=True, ccp_alpha=0.0, class_weight=None,\n",
       "                       criterion='gini', max_depth=45, max_features=30,\n",
       "                       max_leaf_nodes=None, max_samples=None,\n",
       "                       min_impurity_decrease=0.0, min_impurity_split=None,\n",
       "                       min_samples_leaf=200, min_samples_split=2,\n",
       "                       min_weight_fraction_leaf=0.0, n_estimators=500,\n",
       "                       n_jobs=-1, oob_score=False, random_state=None, verbose=0,\n",
       "                       warm_start=False)"
      ]
     },
     "execution_count": 40,
     "metadata": {},
     "output_type": "execute_result"
    },
    {
     "data": {
      "application/javascript": [
       "\n",
       "            setTimeout(function() {\n",
       "                var nbb_cell_id = 40;\n",
       "                var nbb_unformatted_code = \"%%time \\nrf.fit(X_train_split, y_train_split)\";\n",
       "                var nbb_formatted_code = \"%%time \\nrf.fit(X_train_split, y_train_split)\";\n",
       "                var nbb_cells = Jupyter.notebook.get_cells();\n",
       "                for (var i = 0; i < nbb_cells.length; ++i) {\n",
       "                    if (nbb_cells[i].input_prompt_number == nbb_cell_id) {\n",
       "                        if (nbb_cells[i].get_text() == nbb_unformatted_code) {\n",
       "                             nbb_cells[i].set_text(nbb_formatted_code);\n",
       "                        }\n",
       "                        break;\n",
       "                    }\n",
       "                }\n",
       "            }, 500);\n",
       "            "
      ],
      "text/plain": [
       "<IPython.core.display.Javascript object>"
      ]
     },
     "metadata": {},
     "output_type": "display_data"
    }
   ],
   "source": [
    "%%time \n",
    "rf.fit(X_train_split, y_train_split)"
   ]
  },
  {
   "cell_type": "code",
   "execution_count": 41,
   "metadata": {},
   "outputs": [
    {
     "name": "stdout",
     "output_type": "stream",
     "text": [
      "Roc Auc Score: 0.6145066222628707\n"
     ]
    },
    {
     "data": {
      "application/javascript": [
       "\n",
       "            setTimeout(function() {\n",
       "                var nbb_cell_id = 41;\n",
       "                var nbb_unformatted_code = \"print(\\\"Roc Auc Score:\\\", roc_auc_score(y_test_split, rf.predict(X_test_split)))\";\n",
       "                var nbb_formatted_code = \"print(\\\"Roc Auc Score:\\\", roc_auc_score(y_test_split, rf.predict(X_test_split)))\";\n",
       "                var nbb_cells = Jupyter.notebook.get_cells();\n",
       "                for (var i = 0; i < nbb_cells.length; ++i) {\n",
       "                    if (nbb_cells[i].input_prompt_number == nbb_cell_id) {\n",
       "                        if (nbb_cells[i].get_text() == nbb_unformatted_code) {\n",
       "                             nbb_cells[i].set_text(nbb_formatted_code);\n",
       "                        }\n",
       "                        break;\n",
       "                    }\n",
       "                }\n",
       "            }, 500);\n",
       "            "
      ],
      "text/plain": [
       "<IPython.core.display.Javascript object>"
      ]
     },
     "metadata": {},
     "output_type": "display_data"
    }
   ],
   "source": [
    "print(\"Roc Auc Score:\", roc_auc_score(y_test_split, rf.predict(X_test_split)))"
   ]
  },
  {
   "cell_type": "markdown",
   "metadata": {},
   "source": [
    "The most important 20 features"
   ]
  },
  {
   "cell_type": "code",
   "execution_count": 66,
   "metadata": {},
   "outputs": [
    {
     "data": {
      "application/javascript": [
       "\n",
       "            setTimeout(function() {\n",
       "                var nbb_cell_id = 66;\n",
       "                var nbb_unformatted_code = \"feats = {}\\nfor feature, importance in zip(X_train.columns, rf.feature_importances_):\\n    feats[feature] = importance\\n\\nimportances = pd.DataFrame.from_dict(feats, orient=\\\"index\\\").rename(\\n    columns={0: \\\"Gini-importance\\\"}\\n)\\nimp = importances.sort_values(by=\\\"Gini-importance\\\", ascending=False)[:20]\";\n",
       "                var nbb_formatted_code = \"feats = {}\\nfor feature, importance in zip(X_train.columns, rf.feature_importances_):\\n    feats[feature] = importance\\n\\nimportances = pd.DataFrame.from_dict(feats, orient=\\\"index\\\").rename(\\n    columns={0: \\\"Gini-importance\\\"}\\n)\\nimp = importances.sort_values(by=\\\"Gini-importance\\\", ascending=False)[:20]\";\n",
       "                var nbb_cells = Jupyter.notebook.get_cells();\n",
       "                for (var i = 0; i < nbb_cells.length; ++i) {\n",
       "                    if (nbb_cells[i].input_prompt_number == nbb_cell_id) {\n",
       "                        if (nbb_cells[i].get_text() == nbb_unformatted_code) {\n",
       "                             nbb_cells[i].set_text(nbb_formatted_code);\n",
       "                        }\n",
       "                        break;\n",
       "                    }\n",
       "                }\n",
       "            }, 500);\n",
       "            "
      ],
      "text/plain": [
       "<IPython.core.display.Javascript object>"
      ]
     },
     "metadata": {},
     "output_type": "display_data"
    }
   ],
   "source": [
    "feats = {}\n",
    "for feature, importance in zip(X_train.columns, rf.feature_importances_):\n",
    "    feats[feature] = importance\n",
    "\n",
    "importances = pd.DataFrame.from_dict(feats, orient=\"index\").rename(\n",
    "    columns={0: \"Gini-importance\"}\n",
    ")\n",
    "imp = importances.sort_values(by=\"Gini-importance\", ascending=False)[:20]"
   ]
  },
  {
   "cell_type": "code",
   "execution_count": 67,
   "metadata": {},
   "outputs": [
    {
     "name": "stdout",
     "output_type": "stream",
     "text": [
      "Index(['V258', 'V257', 'C1', 'V187', 'V188', 'C13', 'C12', 'C7', 'C14', 'V44',\n",
      "       'V274', 'V294', 'C11', 'C4', 'V283', 'V156', 'V86', 'C8',\n",
      "       'TransactionAmt', 'C10'],\n",
      "      dtype='object')\n"
     ]
    },
    {
     "data": {
      "image/png": "[encoded data removed]",
      "text/plain": [
       "<Figure size 1152x504 with 1 Axes>"
      ]
     },
     "metadata": {
      "needs_background": "light"
     },
     "output_type": "display_data"
    },
    {
     "data": {
      "application/javascript": [
       "\n",
       "            setTimeout(function() {\n",
       "                var nbb_cell_id = 67;\n",
       "                var nbb_unformatted_code = \"plt.figure(1, figsize=(16, 7))\\nplt.bar(imp.index, imp[\\\"Gini-importance\\\"])\\nplt.xticks(imp.index, rotation=90)\\nprint(imp.index)\";\n",
       "                var nbb_formatted_code = \"plt.figure(1, figsize=(16, 7))\\nplt.bar(imp.index, imp[\\\"Gini-importance\\\"])\\nplt.xticks(imp.index, rotation=90)\\nprint(imp.index)\";\n",
       "                var nbb_cells = Jupyter.notebook.get_cells();\n",
       "                for (var i = 0; i < nbb_cells.length; ++i) {\n",
       "                    if (nbb_cells[i].input_prompt_number == nbb_cell_id) {\n",
       "                        if (nbb_cells[i].get_text() == nbb_unformatted_code) {\n",
       "                             nbb_cells[i].set_text(nbb_formatted_code);\n",
       "                        }\n",
       "                        break;\n",
       "                    }\n",
       "                }\n",
       "            }, 500);\n",
       "            "
      ],
      "text/plain": [
       "<IPython.core.display.Javascript object>"
      ]
     },
     "metadata": {},
     "output_type": "display_data"
    }
   ],
   "source": [
    "plt.figure(1, figsize=(16, 7))\n",
    "plt.bar(imp.index, imp[\"Gini-importance\"])\n",
    "plt.xticks(imp.index, rotation=90)\n",
    "print(imp.index)"
   ]
  },
  {
   "cell_type": "code",
   "execution_count": 44,
   "metadata": {},
   "outputs": [
    {
     "data": {
      "application/javascript": [
       "\n",
       "            setTimeout(function() {\n",
       "                var nbb_cell_id = 44;\n",
       "                var nbb_unformatted_code = \"from sklearn.model_selection import TimeSeriesSplit, KFold\\n\\nn_folds = 5\\nfolds = TimeSeriesSplit(n_splits=n_folds)\\nfolds = KFold(n_splits=5)\";\n",
       "                var nbb_formatted_code = \"from sklearn.model_selection import TimeSeriesSplit, KFold\\n\\nn_folds = 5\\nfolds = TimeSeriesSplit(n_splits=n_folds)\\nfolds = KFold(n_splits=5)\";\n",
       "                var nbb_cells = Jupyter.notebook.get_cells();\n",
       "                for (var i = 0; i < nbb_cells.length; ++i) {\n",
       "                    if (nbb_cells[i].input_prompt_number == nbb_cell_id) {\n",
       "                        if (nbb_cells[i].get_text() == nbb_unformatted_code) {\n",
       "                             nbb_cells[i].set_text(nbb_formatted_code);\n",
       "                        }\n",
       "                        break;\n",
       "                    }\n",
       "                }\n",
       "            }, 500);\n",
       "            "
      ],
      "text/plain": [
       "<IPython.core.display.Javascript object>"
      ]
     },
     "metadata": {},
     "output_type": "display_data"
    }
   ],
   "source": [
    "from sklearn.model_selection import TimeSeriesSplit, KFold\n",
    "\n",
    "n_folds = 5\n",
    "folds = TimeSeriesSplit(n_splits=n_folds)\n",
    "folds = KFold(n_splits=5)"
   ]
  },
  {
   "cell_type": "markdown",
   "metadata": {},
   "source": [
    "### LightGBM model "
   ]
  },
  {
   "cell_type": "code",
   "execution_count": 45,
   "metadata": {},
   "outputs": [
    {
     "data": {
      "application/javascript": [
       "\n",
       "            setTimeout(function() {\n",
       "                var nbb_cell_id = 45;\n",
       "                var nbb_unformatted_code = \"columns = X_train.columns\\n\\nsplits = folds.split(X_train, y_train)\\n\\ny_preds = np.zeros(X_test.shape[0])\\ny_oof = np.zeros(X_train.shape[0])\\n\\nscore_auc = 0\\n\\nfeature_importances = pd.DataFrame()\\nfeature_importances[\\\"feature\\\"] = columns\";\n",
       "                var nbb_formatted_code = \"columns = X_train.columns\\n\\nsplits = folds.split(X_train, y_train)\\n\\ny_preds = np.zeros(X_test.shape[0])\\ny_oof = np.zeros(X_train.shape[0])\\n\\nscore_auc = 0\\n\\nfeature_importances = pd.DataFrame()\\nfeature_importances[\\\"feature\\\"] = columns\";\n",
       "                var nbb_cells = Jupyter.notebook.get_cells();\n",
       "                for (var i = 0; i < nbb_cells.length; ++i) {\n",
       "                    if (nbb_cells[i].input_prompt_number == nbb_cell_id) {\n",
       "                        if (nbb_cells[i].get_text() == nbb_unformatted_code) {\n",
       "                             nbb_cells[i].set_text(nbb_formatted_code);\n",
       "                        }\n",
       "                        break;\n",
       "                    }\n",
       "                }\n",
       "            }, 500);\n",
       "            "
      ],
      "text/plain": [
       "<IPython.core.display.Javascript object>"
      ]
     },
     "metadata": {},
     "output_type": "display_data"
    }
   ],
   "source": [
    "columns = X_train.columns\n",
    "\n",
    "splits = folds.split(X_train, y_train)\n",
    "\n",
    "y_preds = np.zeros(X_test.shape[0])\n",
    "y_oof = np.zeros(X_train.shape[0])\n",
    "\n",
    "score_auc = 0\n",
    "\n",
    "feature_importances = pd.DataFrame()\n",
    "feature_importances[\"feature\"] = columns"
   ]
  },
  {
   "cell_type": "code",
   "execution_count": 46,
   "metadata": {},
   "outputs": [
    {
     "data": {
      "application/javascript": [
       "\n",
       "            setTimeout(function() {\n",
       "                var nbb_cell_id = 46;\n",
       "                var nbb_unformatted_code = \"params = {\\n    \\\"num_leaves\\\": 64,\\n    \\\"min_child_weight\\\": 0.03,\\n    \\\"feature_fraction\\\": 0.04,\\n    \\\"bagging_fraction\\\": 0.33,\\n    \\\"min_data_in_leaf\\\": 80,\\n    \\\"objective\\\": \\\"binary\\\",\\n    \\\"max_depth\\\": -1,\\n    \\\"learning_rate\\\": 0.006,\\n    \\\"boosting_type\\\": \\\"gbdt\\\",\\n    \\\"bagging_seed\\\": 7,\\n    \\\"metric\\\": \\\"auc\\\",\\n    \\\"verbosity\\\": -1,\\n    \\\"reg_alpha\\\": 0.3,\\n    \\\"reg_lambda\\\": 0.6,\\n    \\\"random_state\\\": 0,\\n}\";\n",
       "                var nbb_formatted_code = \"params = {\\n    \\\"num_leaves\\\": 64,\\n    \\\"min_child_weight\\\": 0.03,\\n    \\\"feature_fraction\\\": 0.04,\\n    \\\"bagging_fraction\\\": 0.33,\\n    \\\"min_data_in_leaf\\\": 80,\\n    \\\"objective\\\": \\\"binary\\\",\\n    \\\"max_depth\\\": -1,\\n    \\\"learning_rate\\\": 0.006,\\n    \\\"boosting_type\\\": \\\"gbdt\\\",\\n    \\\"bagging_seed\\\": 7,\\n    \\\"metric\\\": \\\"auc\\\",\\n    \\\"verbosity\\\": -1,\\n    \\\"reg_alpha\\\": 0.3,\\n    \\\"reg_lambda\\\": 0.6,\\n    \\\"random_state\\\": 0,\\n}\";\n",
       "                var nbb_cells = Jupyter.notebook.get_cells();\n",
       "                for (var i = 0; i < nbb_cells.length; ++i) {\n",
       "                    if (nbb_cells[i].input_prompt_number == nbb_cell_id) {\n",
       "                        if (nbb_cells[i].get_text() == nbb_unformatted_code) {\n",
       "                             nbb_cells[i].set_text(nbb_formatted_code);\n",
       "                        }\n",
       "                        break;\n",
       "                    }\n",
       "                }\n",
       "            }, 500);\n",
       "            "
      ],
      "text/plain": [
       "<IPython.core.display.Javascript object>"
      ]
     },
     "metadata": {},
     "output_type": "display_data"
    }
   ],
   "source": [
    "params = {\n",
    "    \"num_leaves\": 64,\n",
    "    \"min_child_weight\": 0.03,\n",
    "    \"feature_fraction\": 0.04,\n",
    "    \"bagging_fraction\": 0.33,\n",
    "    \"min_data_in_leaf\": 80,\n",
    "    \"objective\": \"binary\",\n",
    "    \"max_depth\": -1,\n",
    "    \"learning_rate\": 0.006,\n",
    "    \"boosting_type\": \"gbdt\",\n",
    "    \"bagging_seed\": 7,\n",
    "    \"metric\": \"auc\",\n",
    "    \"verbosity\": -1,\n",
    "    \"reg_alpha\": 0.3,\n",
    "    \"reg_lambda\": 0.6,\n",
    "    \"random_state\": 0,\n",
    "}"
   ]
  },
  {
   "cell_type": "code",
   "execution_count": 47,
   "metadata": {
    "scrolled": false
   },
   "outputs": [
    {
     "name": "stdout",
     "output_type": "stream",
     "text": [
      "Training until validation scores don't improve for 100 rounds\n",
      "[200]\ttraining's auc: 0.86939\tvalid_1's auc: 0.794552\n",
      "[400]\ttraining's auc: 0.882176\tvalid_1's auc: 0.815951\n",
      "[600]\ttraining's auc: 0.891082\tvalid_1's auc: 0.83081\n",
      "[800]\ttraining's auc: 0.898997\tvalid_1's auc: 0.843218\n",
      "[1000]\ttraining's auc: 0.90553\tvalid_1's auc: 0.851813\n",
      "[1200]\ttraining's auc: 0.911652\tvalid_1's auc: 0.859784\n",
      "[1400]\ttraining's auc: 0.916559\tvalid_1's auc: 0.865761\n",
      "[1600]\ttraining's auc: 0.92092\tvalid_1's auc: 0.870531\n",
      "[1800]\ttraining's auc: 0.924349\tvalid_1's auc: 0.874235\n",
      "[2000]\ttraining's auc: 0.927669\tvalid_1's auc: 0.877714\n",
      "[2200]\ttraining's auc: 0.930528\tvalid_1's auc: 0.880527\n",
      "[2400]\ttraining's auc: 0.933126\tvalid_1's auc: 0.883205\n",
      "[2600]\ttraining's auc: 0.935623\tvalid_1's auc: 0.885703\n",
      "[2800]\ttraining's auc: 0.938245\tvalid_1's auc: 0.887958\n",
      "[3000]\ttraining's auc: 0.940484\tvalid_1's auc: 0.889852\n",
      "[3200]\ttraining's auc: 0.942283\tvalid_1's auc: 0.891406\n",
      "[3400]\ttraining's auc: 0.944271\tvalid_1's auc: 0.892996\n",
      "[3600]\ttraining's auc: 0.946053\tvalid_1's auc: 0.894221\n",
      "[3800]\ttraining's auc: 0.947616\tvalid_1's auc: 0.895279\n",
      "[4000]\ttraining's auc: 0.949216\tvalid_1's auc: 0.896332\n",
      "[4200]\ttraining's auc: 0.950608\tvalid_1's auc: 0.897186\n",
      "[4400]\ttraining's auc: 0.951877\tvalid_1's auc: 0.897928\n",
      "[4600]\ttraining's auc: 0.953126\tvalid_1's auc: 0.898582\n",
      "[4800]\ttraining's auc: 0.954335\tvalid_1's auc: 0.899308\n",
      "[5000]\ttraining's auc: 0.955509\tvalid_1's auc: 0.900079\n",
      "[5200]\ttraining's auc: 0.956594\tvalid_1's auc: 0.900676\n",
      "[5400]\ttraining's auc: 0.957599\tvalid_1's auc: 0.901197\n",
      "[5600]\ttraining's auc: 0.958577\tvalid_1's auc: 0.901719\n",
      "[5800]\ttraining's auc: 0.959644\tvalid_1's auc: 0.90223\n",
      "[6000]\ttraining's auc: 0.96049\tvalid_1's auc: 0.902631\n",
      "[6200]\ttraining's auc: 0.961313\tvalid_1's auc: 0.90303\n",
      "[6400]\ttraining's auc: 0.962102\tvalid_1's auc: 0.903317\n",
      "[6600]\ttraining's auc: 0.962871\tvalid_1's auc: 0.90358\n",
      "[6800]\ttraining's auc: 0.963597\tvalid_1's auc: 0.903892\n",
      "[7000]\ttraining's auc: 0.964321\tvalid_1's auc: 0.904187\n",
      "[7200]\ttraining's auc: 0.96501\tvalid_1's auc: 0.904409\n",
      "[7400]\ttraining's auc: 0.96559\tvalid_1's auc: 0.904662\n",
      "[7600]\ttraining's auc: 0.966278\tvalid_1's auc: 0.904916\n",
      "[7800]\ttraining's auc: 0.966917\tvalid_1's auc: 0.905175\n",
      "[8000]\ttraining's auc: 0.967558\tvalid_1's auc: 0.905379\n",
      "[8200]\ttraining's auc: 0.968163\tvalid_1's auc: 0.905521\n",
      "[8400]\ttraining's auc: 0.968724\tvalid_1's auc: 0.905665\n",
      "Early stopping, best iteration is:\n",
      "[8389]\ttraining's auc: 0.968683\tvalid_1's auc: 0.905681\n",
      "Fold 1 | AUC: 0.9056810265182766\n",
      "Training until validation scores don't improve for 100 rounds\n",
      "[200]\ttraining's auc: 0.86789\tvalid_1's auc: 0.862064\n",
      "[400]\ttraining's auc: 0.881235\tvalid_1's auc: 0.870296\n",
      "[600]\ttraining's auc: 0.890562\tvalid_1's auc: 0.87585\n",
      "[800]\ttraining's auc: 0.898738\tvalid_1's auc: 0.881211\n",
      "[1000]\ttraining's auc: 0.905364\tvalid_1's auc: 0.885263\n",
      "[1200]\ttraining's auc: 0.911621\tvalid_1's auc: 0.88943\n",
      "[1400]\ttraining's auc: 0.916459\tvalid_1's auc: 0.892706\n",
      "[1600]\ttraining's auc: 0.920607\tvalid_1's auc: 0.895361\n",
      "[1800]\ttraining's auc: 0.924137\tvalid_1's auc: 0.897067\n",
      "[2000]\ttraining's auc: 0.92744\tvalid_1's auc: 0.899006\n",
      "[2200]\ttraining's auc: 0.93025\tvalid_1's auc: 0.900429\n",
      "[2400]\ttraining's auc: 0.932899\tvalid_1's auc: 0.901675\n",
      "[2600]\ttraining's auc: 0.935411\tvalid_1's auc: 0.902993\n",
      "[2800]\ttraining's auc: 0.937974\tvalid_1's auc: 0.904485\n",
      "[3000]\ttraining's auc: 0.940258\tvalid_1's auc: 0.905607\n",
      "[3200]\ttraining's auc: 0.942114\tvalid_1's auc: 0.906526\n",
      "[3400]\ttraining's auc: 0.943999\tvalid_1's auc: 0.907528\n",
      "[3600]\ttraining's auc: 0.945783\tvalid_1's auc: 0.908413\n",
      "[3800]\ttraining's auc: 0.94737\tvalid_1's auc: 0.909227\n",
      "[4000]\ttraining's auc: 0.948958\tvalid_1's auc: 0.909999\n",
      "[4200]\ttraining's auc: 0.95043\tvalid_1's auc: 0.910531\n",
      "[4400]\ttraining's auc: 0.951712\tvalid_1's auc: 0.911004\n",
      "[4600]\ttraining's auc: 0.952969\tvalid_1's auc: 0.911542\n",
      "[4800]\ttraining's auc: 0.954181\tvalid_1's auc: 0.912068\n",
      "[5000]\ttraining's auc: 0.955304\tvalid_1's auc: 0.912534\n",
      "[5200]\ttraining's auc: 0.956396\tvalid_1's auc: 0.913057\n",
      "[5400]\ttraining's auc: 0.957367\tvalid_1's auc: 0.913492\n",
      "[5600]\ttraining's auc: 0.958308\tvalid_1's auc: 0.913834\n",
      "[5800]\ttraining's auc: 0.959353\tvalid_1's auc: 0.914246\n",
      "[6000]\ttraining's auc: 0.960211\tvalid_1's auc: 0.914533\n",
      "[6200]\ttraining's auc: 0.961037\tvalid_1's auc: 0.914789\n",
      "[6400]\ttraining's auc: 0.961836\tvalid_1's auc: 0.915032\n",
      "[6600]\ttraining's auc: 0.962626\tvalid_1's auc: 0.915328\n",
      "[6800]\ttraining's auc: 0.963322\tvalid_1's auc: 0.915576\n",
      "[7000]\ttraining's auc: 0.964033\tvalid_1's auc: 0.915817\n",
      "[7200]\ttraining's auc: 0.964724\tvalid_1's auc: 0.916085\n",
      "[7400]\ttraining's auc: 0.965287\tvalid_1's auc: 0.916261\n",
      "[7600]\ttraining's auc: 0.965925\tvalid_1's auc: 0.916507\n",
      "[7800]\ttraining's auc: 0.966564\tvalid_1's auc: 0.916804\n",
      "[8000]\ttraining's auc: 0.967188\tvalid_1's auc: 0.917023\n",
      "[8200]\ttraining's auc: 0.96782\tvalid_1's auc: 0.917272\n",
      "[8400]\ttraining's auc: 0.96838\tvalid_1's auc: 0.917409\n",
      "[8600]\ttraining's auc: 0.968902\tvalid_1's auc: 0.917566\n",
      "[8800]\ttraining's auc: 0.96941\tvalid_1's auc: 0.91772\n",
      "[9000]\ttraining's auc: 0.96991\tvalid_1's auc: 0.917944\n",
      "[9200]\ttraining's auc: 0.9704\tvalid_1's auc: 0.918066\n",
      "[9400]\ttraining's auc: 0.970871\tvalid_1's auc: 0.918242\n",
      "[9600]\ttraining's auc: 0.971318\tvalid_1's auc: 0.918382\n",
      "[9800]\ttraining's auc: 0.971771\tvalid_1's auc: 0.918554\n",
      "[10000]\ttraining's auc: 0.972233\tvalid_1's auc: 0.918627\n",
      "Did not meet early stopping. Best iteration is:\n",
      "[10000]\ttraining's auc: 0.972233\tvalid_1's auc: 0.918627\n",
      "Fold 2 | AUC: 0.9186273150326898\n",
      "Training until validation scores don't improve for 100 rounds\n",
      "[200]\ttraining's auc: 0.868849\tvalid_1's auc: 0.858206\n",
      "[400]\ttraining's auc: 0.882505\tvalid_1's auc: 0.867444\n",
      "[600]\ttraining's auc: 0.89184\tvalid_1's auc: 0.873866\n",
      "[800]\ttraining's auc: 0.900102\tvalid_1's auc: 0.87921\n",
      "[1000]\ttraining's auc: 0.906754\tvalid_1's auc: 0.883346\n",
      "[1200]\ttraining's auc: 0.912892\tvalid_1's auc: 0.88726\n",
      "[1400]\ttraining's auc: 0.91793\tvalid_1's auc: 0.890269\n",
      "[1600]\ttraining's auc: 0.922073\tvalid_1's auc: 0.892807\n",
      "[1800]\ttraining's auc: 0.925441\tvalid_1's auc: 0.894559\n",
      "[2000]\ttraining's auc: 0.928708\tvalid_1's auc: 0.896234\n",
      "[2200]\ttraining's auc: 0.931477\tvalid_1's auc: 0.897689\n",
      "[2400]\ttraining's auc: 0.934085\tvalid_1's auc: 0.898976\n",
      "[2600]\ttraining's auc: 0.936509\tvalid_1's auc: 0.90045\n",
      "[2800]\ttraining's auc: 0.938988\tvalid_1's auc: 0.901765\n",
      "[3000]\ttraining's auc: 0.941231\tvalid_1's auc: 0.90296\n",
      "[3200]\ttraining's auc: 0.942999\tvalid_1's auc: 0.903799\n",
      "[3400]\ttraining's auc: 0.944944\tvalid_1's auc: 0.904815\n",
      "[3600]\ttraining's auc: 0.94665\tvalid_1's auc: 0.90553\n",
      "[3800]\ttraining's auc: 0.948264\tvalid_1's auc: 0.906274\n",
      "[4000]\ttraining's auc: 0.949809\tvalid_1's auc: 0.906941\n",
      "[4200]\ttraining's auc: 0.951206\tvalid_1's auc: 0.907582\n",
      "[4400]\ttraining's auc: 0.952489\tvalid_1's auc: 0.908\n",
      "[4600]\ttraining's auc: 0.953731\tvalid_1's auc: 0.908406\n",
      "[4800]\ttraining's auc: 0.954952\tvalid_1's auc: 0.908805\n",
      "[5000]\ttraining's auc: 0.956137\tvalid_1's auc: 0.909193\n",
      "[5200]\ttraining's auc: 0.957246\tvalid_1's auc: 0.909722\n",
      "[5400]\ttraining's auc: 0.958243\tvalid_1's auc: 0.910104\n",
      "[5600]\ttraining's auc: 0.959191\tvalid_1's auc: 0.910387\n",
      "[5800]\ttraining's auc: 0.960215\tvalid_1's auc: 0.910775\n",
      "[6000]\ttraining's auc: 0.961065\tvalid_1's auc: 0.911017\n",
      "[6200]\ttraining's auc: 0.961907\tvalid_1's auc: 0.911203\n",
      "[6400]\ttraining's auc: 0.962711\tvalid_1's auc: 0.911286\n",
      "[6600]\ttraining's auc: 0.963517\tvalid_1's auc: 0.911541\n",
      "[6800]\ttraining's auc: 0.964281\tvalid_1's auc: 0.911778\n",
      "[7000]\ttraining's auc: 0.965015\tvalid_1's auc: 0.911914\n",
      "[7200]\ttraining's auc: 0.965693\tvalid_1's auc: 0.912082\n",
      "[7400]\ttraining's auc: 0.966274\tvalid_1's auc: 0.912183\n",
      "Early stopping, best iteration is:\n",
      "[7330]\ttraining's auc: 0.966092\tvalid_1's auc: 0.912211\n",
      "Fold 3 | AUC: 0.9122106649739787\n",
      "Training until validation scores don't improve for 100 rounds\n",
      "[200]\ttraining's auc: 0.864482\tvalid_1's auc: 0.865258\n",
      "[400]\ttraining's auc: 0.877519\tvalid_1's auc: 0.876111\n",
      "[600]\ttraining's auc: 0.886919\tvalid_1's auc: 0.883795\n",
      "[800]\ttraining's auc: 0.895369\tvalid_1's auc: 0.890006\n",
      "[1000]\ttraining's auc: 0.90196\tvalid_1's auc: 0.894872\n",
      "[1200]\ttraining's auc: 0.908135\tvalid_1's auc: 0.899393\n",
      "[1400]\ttraining's auc: 0.913162\tvalid_1's auc: 0.902964\n"
     ]
    },
    {
     "name": "stdout",
     "output_type": "stream",
     "text": [
      "[1600]\ttraining's auc: 0.917472\tvalid_1's auc: 0.905852\n",
      "[1800]\ttraining's auc: 0.920959\tvalid_1's auc: 0.907835\n",
      "[2000]\ttraining's auc: 0.924359\tvalid_1's auc: 0.909971\n",
      "[2200]\ttraining's auc: 0.927178\tvalid_1's auc: 0.911664\n",
      "[2400]\ttraining's auc: 0.929916\tvalid_1's auc: 0.913231\n",
      "[2600]\ttraining's auc: 0.93254\tvalid_1's auc: 0.914824\n",
      "[2800]\ttraining's auc: 0.935152\tvalid_1's auc: 0.916512\n",
      "[3000]\ttraining's auc: 0.937448\tvalid_1's auc: 0.917927\n",
      "[3200]\ttraining's auc: 0.939328\tvalid_1's auc: 0.918946\n",
      "[3400]\ttraining's auc: 0.941323\tvalid_1's auc: 0.920121\n",
      "[3600]\ttraining's auc: 0.943133\tvalid_1's auc: 0.921062\n",
      "[3800]\ttraining's auc: 0.944771\tvalid_1's auc: 0.921965\n",
      "[4000]\ttraining's auc: 0.946419\tvalid_1's auc: 0.922864\n",
      "[4200]\ttraining's auc: 0.947933\tvalid_1's auc: 0.923585\n",
      "[4400]\ttraining's auc: 0.949262\tvalid_1's auc: 0.924195\n",
      "[4600]\ttraining's auc: 0.950571\tvalid_1's auc: 0.924798\n",
      "[4800]\ttraining's auc: 0.951822\tvalid_1's auc: 0.925286\n",
      "[5000]\ttraining's auc: 0.953053\tvalid_1's auc: 0.925813\n",
      "[5200]\ttraining's auc: 0.954208\tvalid_1's auc: 0.92638\n",
      "[5400]\ttraining's auc: 0.955229\tvalid_1's auc: 0.926811\n",
      "[5600]\ttraining's auc: 0.956234\tvalid_1's auc: 0.927235\n",
      "[5800]\ttraining's auc: 0.957332\tvalid_1's auc: 0.9277\n",
      "[6000]\ttraining's auc: 0.958214\tvalid_1's auc: 0.928078\n",
      "[6200]\ttraining's auc: 0.959108\tvalid_1's auc: 0.928381\n",
      "[6400]\ttraining's auc: 0.959939\tvalid_1's auc: 0.928653\n",
      "[6600]\ttraining's auc: 0.960797\tvalid_1's auc: 0.929009\n",
      "[6800]\ttraining's auc: 0.961597\tvalid_1's auc: 0.929272\n",
      "[7000]\ttraining's auc: 0.96236\tvalid_1's auc: 0.929534\n",
      "[7200]\ttraining's auc: 0.963092\tvalid_1's auc: 0.929735\n",
      "[7400]\ttraining's auc: 0.963722\tvalid_1's auc: 0.929973\n",
      "[7600]\ttraining's auc: 0.964417\tvalid_1's auc: 0.930211\n",
      "[7800]\ttraining's auc: 0.96508\tvalid_1's auc: 0.930445\n",
      "[8000]\ttraining's auc: 0.965746\tvalid_1's auc: 0.930665\n",
      "[8200]\ttraining's auc: 0.966398\tvalid_1's auc: 0.930924\n",
      "[8400]\ttraining's auc: 0.967003\tvalid_1's auc: 0.931065\n",
      "[8600]\ttraining's auc: 0.967574\tvalid_1's auc: 0.931272\n",
      "[8800]\ttraining's auc: 0.968091\tvalid_1's auc: 0.931414\n",
      "[9000]\ttraining's auc: 0.96865\tvalid_1's auc: 0.931537\n",
      "[9200]\ttraining's auc: 0.969184\tvalid_1's auc: 0.931722\n",
      "[9400]\ttraining's auc: 0.969706\tvalid_1's auc: 0.931913\n",
      "[9600]\ttraining's auc: 0.97017\tvalid_1's auc: 0.932012\n",
      "[9800]\ttraining's auc: 0.970655\tvalid_1's auc: 0.932101\n",
      "[10000]\ttraining's auc: 0.971142\tvalid_1's auc: 0.932244\n",
      "Did not meet early stopping. Best iteration is:\n",
      "[10000]\ttraining's auc: 0.971142\tvalid_1's auc: 0.932244\n",
      "Fold 4 | AUC: 0.9322443385926124\n",
      "Training until validation scores don't improve for 100 rounds\n",
      "[200]\ttraining's auc: 0.867724\tvalid_1's auc: 0.846697\n",
      "[400]\ttraining's auc: 0.880685\tvalid_1's auc: 0.855304\n",
      "[600]\ttraining's auc: 0.890024\tvalid_1's auc: 0.86185\n",
      "[800]\ttraining's auc: 0.898714\tvalid_1's auc: 0.867272\n",
      "[1000]\ttraining's auc: 0.905383\tvalid_1's auc: 0.871705\n",
      "[1200]\ttraining's auc: 0.911884\tvalid_1's auc: 0.876073\n",
      "[1400]\ttraining's auc: 0.916948\tvalid_1's auc: 0.879257\n",
      "[1600]\ttraining's auc: 0.921298\tvalid_1's auc: 0.881816\n",
      "[1800]\ttraining's auc: 0.924867\tvalid_1's auc: 0.883589\n",
      "[2000]\ttraining's auc: 0.928247\tvalid_1's auc: 0.885569\n",
      "[2200]\ttraining's auc: 0.931109\tvalid_1's auc: 0.887103\n",
      "[2400]\ttraining's auc: 0.933781\tvalid_1's auc: 0.888388\n",
      "[2600]\ttraining's auc: 0.936257\tvalid_1's auc: 0.889936\n",
      "[2800]\ttraining's auc: 0.9388\tvalid_1's auc: 0.891153\n",
      "[3000]\ttraining's auc: 0.940968\tvalid_1's auc: 0.892093\n",
      "[3200]\ttraining's auc: 0.942763\tvalid_1's auc: 0.892757\n",
      "[3400]\ttraining's auc: 0.944748\tvalid_1's auc: 0.893716\n",
      "[3600]\ttraining's auc: 0.946439\tvalid_1's auc: 0.894203\n",
      "[3800]\ttraining's auc: 0.948022\tvalid_1's auc: 0.894942\n",
      "[4000]\ttraining's auc: 0.949597\tvalid_1's auc: 0.895468\n",
      "[4200]\ttraining's auc: 0.950991\tvalid_1's auc: 0.89583\n",
      "[4400]\ttraining's auc: 0.952297\tvalid_1's auc: 0.896297\n",
      "[4600]\ttraining's auc: 0.953482\tvalid_1's auc: 0.896681\n",
      "[4800]\ttraining's auc: 0.954712\tvalid_1's auc: 0.896873\n",
      "[5000]\ttraining's auc: 0.955855\tvalid_1's auc: 0.897088\n",
      "[5200]\ttraining's auc: 0.95693\tvalid_1's auc: 0.89741\n",
      "[5400]\ttraining's auc: 0.957906\tvalid_1's auc: 0.897638\n",
      "[5600]\ttraining's auc: 0.958837\tvalid_1's auc: 0.897843\n",
      "Early stopping, best iteration is:\n",
      "[5575]\ttraining's auc: 0.95875\tvalid_1's auc: 0.897893\n",
      "Fold 5 | AUC: 0.8978927325363024\n",
      "CPU times: user 9h 31min 55s, sys: 12min 49s, total: 9h 44min 44s\n",
      "Wall time: 38min 33s\n"
     ]
    },
    {
     "data": {
      "application/javascript": [
       "\n",
       "            setTimeout(function() {\n",
       "                var nbb_cell_id = 47;\n",
       "                var nbb_unformatted_code = \"%%time\\nfor fold_n, (train_index, valid_index) in enumerate(splits):\\n    X_tr, X_val = X_train[columns].iloc[train_index], X_train[columns].iloc[valid_index]\\n    y_tr, y_val = y_train.iloc[train_index], y_train.iloc[valid_index]\\n    \\n    dtrain = lgb.Dataset(X_tr, label=y_tr)\\n    dvalid = lgb.Dataset(X_val, label=y_val)\\n\\n    clf = lgb.train(params, dtrain, 10000, valid_sets = [dtrain, dvalid], verbose_eval=200, early_stopping_rounds=100)\\n    \\n    feature_importances[f'fold_{fold_n + 1}'] = clf.feature_importance()\\n    \\n    y_pred_val = clf.predict(X_val)\\n    y_oof[valid_index] = y_pred_val\\n    print(f\\\"Fold {fold_n + 1} | AUC: {roc_auc_score(y_val, y_pred_val)}\\\")\\n    \\n    score_auc += roc_auc_score(y_val, y_pred_val) / n_folds\\n    \\n    y_preds += clf.predict(X_test) / n_folds\\n    \\n    del X_tr, X_val, y_tr, y_val\";\n",
       "                var nbb_formatted_code = \"%%time\\nfor fold_n, (train_index, valid_index) in enumerate(splits):\\n    X_tr, X_val = X_train[columns].iloc[train_index], X_train[columns].iloc[valid_index]\\n    y_tr, y_val = y_train.iloc[train_index], y_train.iloc[valid_index]\\n    \\n    dtrain = lgb.Dataset(X_tr, label=y_tr)\\n    dvalid = lgb.Dataset(X_val, label=y_val)\\n\\n    clf = lgb.train(params, dtrain, 10000, valid_sets = [dtrain, dvalid], verbose_eval=200, early_stopping_rounds=100)\\n    \\n    feature_importances[f'fold_{fold_n + 1}'] = clf.feature_importance()\\n    \\n    y_pred_val = clf.predict(X_val)\\n    y_oof[valid_index] = y_pred_val\\n    print(f\\\"Fold {fold_n + 1} | AUC: {roc_auc_score(y_val, y_pred_val)}\\\")\\n    \\n    score_auc += roc_auc_score(y_val, y_pred_val) / n_folds\\n    \\n    y_preds += clf.predict(X_test) / n_folds\\n    \\n    del X_tr, X_val, y_tr, y_val\";\n",
       "                var nbb_cells = Jupyter.notebook.get_cells();\n",
       "                for (var i = 0; i < nbb_cells.length; ++i) {\n",
       "                    if (nbb_cells[i].input_prompt_number == nbb_cell_id) {\n",
       "                        if (nbb_cells[i].get_text() == nbb_unformatted_code) {\n",
       "                             nbb_cells[i].set_text(nbb_formatted_code);\n",
       "                        }\n",
       "                        break;\n",
       "                    }\n",
       "                }\n",
       "            }, 500);\n",
       "            "
      ],
      "text/plain": [
       "<IPython.core.display.Javascript object>"
      ]
     },
     "metadata": {},
     "output_type": "display_data"
    }
   ],
   "source": [
    "%%time\n",
    "for fold_n, (train_index, valid_index) in enumerate(splits):\n",
    "    X_tr, X_val = X_train[columns].iloc[train_index], X_train[columns].iloc[valid_index]\n",
    "    y_tr, y_val = y_train.iloc[train_index], y_train.iloc[valid_index]\n",
    "    \n",
    "    dtrain = lgb.Dataset(X_tr, label=y_tr)\n",
    "    dvalid = lgb.Dataset(X_val, label=y_val)\n",
    "\n",
    "    clf = lgb.train(params, dtrain, 10000, valid_sets = [dtrain, dvalid], verbose_eval=200, early_stopping_rounds=100)\n",
    "    \n",
    "    feature_importances[f'fold_{fold_n + 1}'] = clf.feature_importance()\n",
    "    \n",
    "    y_pred_val = clf.predict(X_val)\n",
    "    y_oof[valid_index] = y_pred_val\n",
    "    print(f\"Fold {fold_n + 1} | AUC: {roc_auc_score(y_val, y_pred_val)}\")\n",
    "    \n",
    "    score_auc += roc_auc_score(y_val, y_pred_val) / n_folds\n",
    "    \n",
    "    y_preds += clf.predict(X_test) / n_folds\n",
    "    \n",
    "    del X_tr, X_val, y_tr, y_val"
   ]
  },
  {
   "cell_type": "code",
   "execution_count": 48,
   "metadata": {},
   "outputs": [
    {
     "name": "stdout",
     "output_type": "stream",
     "text": [
      "\n",
      "Mean AUC = 0.9133312155307719\n",
      "Out of folds AUC = 0.9142822832932855\n"
     ]
    },
    {
     "data": {
      "application/javascript": [
       "\n",
       "            setTimeout(function() {\n",
       "                var nbb_cell_id = 48;\n",
       "                var nbb_unformatted_code = \"print(f\\\"\\\\nMean AUC = {score_auc}\\\")\\nprint(f\\\"Out of folds AUC = {roc_auc_score(y_train, y_oof)}\\\")\";\n",
       "                var nbb_formatted_code = \"print(f\\\"\\\\nMean AUC = {score_auc}\\\")\\nprint(f\\\"Out of folds AUC = {roc_auc_score(y_train, y_oof)}\\\")\";\n",
       "                var nbb_cells = Jupyter.notebook.get_cells();\n",
       "                for (var i = 0; i < nbb_cells.length; ++i) {\n",
       "                    if (nbb_cells[i].input_prompt_number == nbb_cell_id) {\n",
       "                        if (nbb_cells[i].get_text() == nbb_unformatted_code) {\n",
       "                             nbb_cells[i].set_text(nbb_formatted_code);\n",
       "                        }\n",
       "                        break;\n",
       "                    }\n",
       "                }\n",
       "            }, 500);\n",
       "            "
      ],
      "text/plain": [
       "<IPython.core.display.Javascript object>"
      ]
     },
     "metadata": {},
     "output_type": "display_data"
    }
   ],
   "source": [
    "print(f\"\\nMean AUC = {score_auc}\")\n",
    "print(f\"Out of folds AUC = {roc_auc_score(y_train, y_oof)}\")"
   ]
  },
  {
   "cell_type": "code",
   "execution_count": 49,
   "metadata": {},
   "outputs": [
    {
     "data": {
      "application/javascript": [
       "\n",
       "            setTimeout(function() {\n",
       "                var nbb_cell_id = 49;\n",
       "                var nbb_unformatted_code = \"feature_importances['average'] = feature_importances[['fold_{}'.format(fold + 1) for fold in range(folds.n_splits)]].mean(axis=1)\";\n",
       "                var nbb_formatted_code = \"feature_importances[\\\"average\\\"] = feature_importances[\\n    [\\\"fold_{}\\\".format(fold + 1) for fold in range(folds.n_splits)]\\n].mean(axis=1)\";\n",
       "                var nbb_cells = Jupyter.notebook.get_cells();\n",
       "                for (var i = 0; i < nbb_cells.length; ++i) {\n",
       "                    if (nbb_cells[i].input_prompt_number == nbb_cell_id) {\n",
       "                        if (nbb_cells[i].get_text() == nbb_unformatted_code) {\n",
       "                             nbb_cells[i].set_text(nbb_formatted_code);\n",
       "                        }\n",
       "                        break;\n",
       "                    }\n",
       "                }\n",
       "            }, 500);\n",
       "            "
      ],
      "text/plain": [
       "<IPython.core.display.Javascript object>"
      ]
     },
     "metadata": {},
     "output_type": "display_data"
    }
   ],
   "source": [
    "feature_importances[\"average\"] = feature_importances[\n",
    "    [\"fold_{}\".format(fold + 1) for fold in range(folds.n_splits)]\n",
    "].mean(axis=1)"
   ]
  },
  {
   "cell_type": "code",
   "execution_count": 58,
   "metadata": {},
   "outputs": [
    {
     "data": {
      "application/javascript": [
       "\n",
       "            setTimeout(function() {\n",
       "                var nbb_cell_id = 58;\n",
       "                var nbb_unformatted_code = \"f = feature_importances[[\\\"feature\\\", \\\"average\\\"]].sort_values(by='average', ascending=False).head(20)\";\n",
       "                var nbb_formatted_code = \"f = (\\n    feature_importances[[\\\"feature\\\", \\\"average\\\"]]\\n    .sort_values(by=\\\"average\\\", ascending=False)\\n    .head(20)\\n)\";\n",
       "                var nbb_cells = Jupyter.notebook.get_cells();\n",
       "                for (var i = 0; i < nbb_cells.length; ++i) {\n",
       "                    if (nbb_cells[i].input_prompt_number == nbb_cell_id) {\n",
       "                        if (nbb_cells[i].get_text() == nbb_unformatted_code) {\n",
       "                             nbb_cells[i].set_text(nbb_formatted_code);\n",
       "                        }\n",
       "                        break;\n",
       "                    }\n",
       "                }\n",
       "            }, 500);\n",
       "            "
      ],
      "text/plain": [
       "<IPython.core.display.Javascript object>"
      ]
     },
     "metadata": {},
     "output_type": "display_data"
    }
   ],
   "source": [
    "f = (\n",
    "    feature_importances[[\"feature\", \"average\"]]\n",
    "    .sort_values(by=\"average\", ascending=False)\n",
    "    .head(20)\n",
    ")"
   ]
  },
  {
   "cell_type": "code",
   "execution_count": 59,
   "metadata": {
    "scrolled": false
   },
   "outputs": [
    {
     "name": "stdout",
     "output_type": "stream",
     "text": [
      "Index(['V257', 'V253', 'R_emaildomain', 'V185', 'V187', 'C12', 'C11', 'C6',\n",
      "       'C13', 'V41', 'V271', 'V291', 'C10', 'C2', 'V281', 'V147', 'V82', 'C7',\n",
      "       'isFraud', 'C9'],\n",
      "      dtype='object')\n"
     ]
    },
    {
     "data": {
      "image/png": "[encoded data removed]",
      "text/plain": [
       "<Figure size 1152x504 with 1 Axes>"
      ]
     },
     "metadata": {
      "needs_background": "light"
     },
     "output_type": "display_data"
    },
    {
     "data": {
      "application/javascript": [
       "\n",
       "            setTimeout(function() {\n",
       "                var nbb_cell_id = 59;\n",
       "                var nbb_unformatted_code = \"\\nplt.figure(1, figsize=(16, 7))\\nplt.bar(f[\\\"feature\\\"], f[\\\"average\\\"])\\nplt.xticks(f[\\\"feature\\\"], rotation=90)\\nprint(imp.index)\";\n",
       "                var nbb_formatted_code = \"plt.figure(1, figsize=(16, 7))\\nplt.bar(f[\\\"feature\\\"], f[\\\"average\\\"])\\nplt.xticks(f[\\\"feature\\\"], rotation=90)\\nprint(imp.index)\";\n",
       "                var nbb_cells = Jupyter.notebook.get_cells();\n",
       "                for (var i = 0; i < nbb_cells.length; ++i) {\n",
       "                    if (nbb_cells[i].input_prompt_number == nbb_cell_id) {\n",
       "                        if (nbb_cells[i].get_text() == nbb_unformatted_code) {\n",
       "                             nbb_cells[i].set_text(nbb_formatted_code);\n",
       "                        }\n",
       "                        break;\n",
       "                    }\n",
       "                }\n",
       "            }, 500);\n",
       "            "
      ],
      "text/plain": [
       "<IPython.core.display.Javascript object>"
      ]
     },
     "metadata": {},
     "output_type": "display_data"
    }
   ],
   "source": [
    "plt.figure(1, figsize=(16, 7))\n",
    "plt.bar(f[\"feature\"], f[\"average\"])\n",
    "plt.xticks(f[\"feature\"], rotation=90)\n",
    "print(imp.index)"
   ]
  },
  {
   "cell_type": "code",
   "execution_count": 75,
   "metadata": {},
   "outputs": [
    {
     "data": {
      "text/plain": [
       "{'boosting_type': 'gbdt',\n",
       " 'class_weight': None,\n",
       " 'colsample_bytree': 1.0,\n",
       " 'importance_type': 'split',\n",
       " 'learning_rate': 0.006,\n",
       " 'max_depth': -1,\n",
       " 'min_child_samples': 20,\n",
       " 'min_child_weight': 0.03,\n",
       " 'min_split_gain': 0.0,\n",
       " 'n_estimators': 100,\n",
       " 'n_jobs': -1,\n",
       " 'num_leaves': 64,\n",
       " 'objective': 'binary',\n",
       " 'random_state': 0,\n",
       " 'reg_alpha': 0.3,\n",
       " 'reg_lambda': 0.6,\n",
       " 'silent': True,\n",
       " 'subsample': 1.0,\n",
       " 'subsample_for_bin': 200000,\n",
       " 'subsample_freq': 0,\n",
       " 'feature_fraction': 0.04,\n",
       " 'bagging_fraction': 0.33,\n",
       " 'min_data_in_leaf': 80,\n",
       " 'bagging_seed': 7,\n",
       " 'metric': 'auc',\n",
       " 'verbosity': -1,\n",
       " 'num_boost_round': 5575}"
      ]
     },
     "execution_count": 75,
     "metadata": {},
     "output_type": "execute_result"
    },
    {
     "data": {
      "application/javascript": [
       "\n",
       "            setTimeout(function() {\n",
       "                var nbb_cell_id = 75;\n",
       "                var nbb_unformatted_code = \"clf.get_params()\";\n",
       "                var nbb_formatted_code = \"clf.get_params()\";\n",
       "                var nbb_cells = Jupyter.notebook.get_cells();\n",
       "                for (var i = 0; i < nbb_cells.length; ++i) {\n",
       "                    if (nbb_cells[i].input_prompt_number == nbb_cell_id) {\n",
       "                        if (nbb_cells[i].get_text() == nbb_unformatted_code) {\n",
       "                             nbb_cells[i].set_text(nbb_formatted_code);\n",
       "                        }\n",
       "                        break;\n",
       "                    }\n",
       "                }\n",
       "            }, 500);\n",
       "            "
      ],
      "text/plain": [
       "<IPython.core.display.Javascript object>"
      ]
     },
     "metadata": {},
     "output_type": "display_data"
    }
   ],
   "source": [
    "clf.get_params()"
   ]
  },
  {
   "cell_type": "code",
   "execution_count": 76,
   "metadata": {},
   "outputs": [
    {
     "data": {
      "application/javascript": [
       "\n",
       "            setTimeout(function() {\n",
       "                var nbb_cell_id = 76;\n",
       "                var nbb_unformatted_code = \"final_clf = lgb.LGBMClassifier(**clf.get_params())\";\n",
       "                var nbb_formatted_code = \"final_clf = lgb.LGBMClassifier(**clf.get_params())\";\n",
       "                var nbb_cells = Jupyter.notebook.get_cells();\n",
       "                for (var i = 0; i < nbb_cells.length; ++i) {\n",
       "                    if (nbb_cells[i].input_prompt_number == nbb_cell_id) {\n",
       "                        if (nbb_cells[i].get_text() == nbb_unformatted_code) {\n",
       "                             nbb_cells[i].set_text(nbb_formatted_code);\n",
       "                        }\n",
       "                        break;\n",
       "                    }\n",
       "                }\n",
       "            }, 500);\n",
       "            "
      ],
      "text/plain": [
       "<IPython.core.display.Javascript object>"
      ]
     },
     "metadata": {},
     "output_type": "display_data"
    }
   ],
   "source": [
    "final_clf = lgb.LGBMClassifier(**clf.get_params())"
   ]
  },
  {
   "cell_type": "code",
   "execution_count": 77,
   "metadata": {},
   "outputs": [
    {
     "name": "stderr",
     "output_type": "stream",
     "text": [
      "/Users/radufotolescu/.local/share/virtualenvs/fraud-detection-5KZQpUEG/lib/python3.7/site-packages/lightgbm/engine.py:148: UserWarning: Found `num_boost_round` in params. Will use it instead of argument\n",
      "  warnings.warn(\"Found `{}` in params. Will use it instead of argument\".format(alias))\n"
     ]
    },
    {
     "data": {
      "text/plain": [
       "LGBMClassifier(bagging_fraction=0.33, bagging_seed=7, boosting_type='gbdt',\n",
       "               class_weight=None, colsample_bytree=1.0, feature_fraction=0.04,\n",
       "               importance_type='split', learning_rate=0.006, max_depth=-1,\n",
       "               metric='auc', min_child_samples=20, min_child_weight=0.03,\n",
       "               min_data_in_leaf=80, min_split_gain=0.0, n_estimators=100,\n",
       "               n_jobs=-1, num_boost_round=5575, num_leaves=64,\n",
       "               objective='binary', random_state=0, reg_alpha=0.3,\n",
       "               reg_lambda=0.6, silent=True, subsample=1.0,\n",
       "               subsample_for_bin=200000, subsample_freq=0, verbosity=-1)"
      ]
     },
     "execution_count": 77,
     "metadata": {},
     "output_type": "execute_result"
    },
    {
     "data": {
      "application/javascript": [
       "\n",
       "            setTimeout(function() {\n",
       "                var nbb_cell_id = 77;\n",
       "                var nbb_unformatted_code = \"final_clf.fit(X_train, y_train)\";\n",
       "                var nbb_formatted_code = \"final_clf.fit(X_train, y_train)\";\n",
       "                var nbb_cells = Jupyter.notebook.get_cells();\n",
       "                for (var i = 0; i < nbb_cells.length; ++i) {\n",
       "                    if (nbb_cells[i].input_prompt_number == nbb_cell_id) {\n",
       "                        if (nbb_cells[i].get_text() == nbb_unformatted_code) {\n",
       "                             nbb_cells[i].set_text(nbb_formatted_code);\n",
       "                        }\n",
       "                        break;\n",
       "                    }\n",
       "                }\n",
       "            }, 500);\n",
       "            "
      ],
      "text/plain": [
       "<IPython.core.display.Javascript object>"
      ]
     },
     "metadata": {},
     "output_type": "display_data"
    }
   ],
   "source": [
    "final_clf.fit(X_train, y_train)"
   ]
  },
  {
   "cell_type": "code",
   "execution_count": 84,
   "metadata": {},
   "outputs": [
    {
     "data": {
      "application/javascript": [
       "\n",
       "            setTimeout(function() {\n",
       "                var nbb_cell_id = 84;\n",
       "                var nbb_unformatted_code = \"sub = pd.read_csv(f\\\"{data_loc}/sample_submission.csv\\\")\";\n",
       "                var nbb_formatted_code = \"sub = pd.read_csv(f\\\"{data_loc}/sample_submission.csv\\\")\";\n",
       "                var nbb_cells = Jupyter.notebook.get_cells();\n",
       "                for (var i = 0; i < nbb_cells.length; ++i) {\n",
       "                    if (nbb_cells[i].input_prompt_number == nbb_cell_id) {\n",
       "                        if (nbb_cells[i].get_text() == nbb_unformatted_code) {\n",
       "                             nbb_cells[i].set_text(nbb_formatted_code);\n",
       "                        }\n",
       "                        break;\n",
       "                    }\n",
       "                }\n",
       "            }, 500);\n",
       "            "
      ],
      "text/plain": [
       "<IPython.core.display.Javascript object>"
      ]
     },
     "metadata": {},
     "output_type": "display_data"
    }
   ],
   "source": [
    "sub = pd.read_csv(f\"{data_loc}/sample_submission.csv\")"
   ]
  },
  {
   "cell_type": "code",
   "execution_count": 85,
   "metadata": {},
   "outputs": [
    {
     "data": {
      "text/html": [
       "<div>\n",
       "<style scoped>\n",
       "    .dataframe tbody tr th:only-of-type {\n",
       "        vertical-align: middle;\n",
       "    }\n",
       "\n",
       "    .dataframe tbody tr th {\n",
       "        vertical-align: top;\n",
       "    }\n",
       "\n",
       "    .dataframe thead th {\n",
       "        text-align: right;\n",
       "    }\n",
       "</style>\n",
       "<table border=\"1\" class=\"dataframe\">\n",
       "  <thead>\n",
       "    <tr style=\"text-align: right;\">\n",
       "      <th></th>\n",
       "      <th>TransactionID</th>\n",
       "      <th>isFraud</th>\n",
       "    </tr>\n",
       "  </thead>\n",
       "  <tbody>\n",
       "    <tr>\n",
       "      <th>0</th>\n",
       "      <td>3663549</td>\n",
       "      <td>0.5</td>\n",
       "    </tr>\n",
       "    <tr>\n",
       "      <th>1</th>\n",
       "      <td>3663550</td>\n",
       "      <td>0.5</td>\n",
       "    </tr>\n",
       "    <tr>\n",
       "      <th>2</th>\n",
       "      <td>3663551</td>\n",
       "      <td>0.5</td>\n",
       "    </tr>\n",
       "    <tr>\n",
       "      <th>3</th>\n",
       "      <td>3663552</td>\n",
       "      <td>0.5</td>\n",
       "    </tr>\n",
       "    <tr>\n",
       "      <th>4</th>\n",
       "      <td>3663553</td>\n",
       "      <td>0.5</td>\n",
       "    </tr>\n",
       "    <tr>\n",
       "      <th>...</th>\n",
       "      <td>...</td>\n",
       "      <td>...</td>\n",
       "    </tr>\n",
       "    <tr>\n",
       "      <th>506686</th>\n",
       "      <td>4170235</td>\n",
       "      <td>0.5</td>\n",
       "    </tr>\n",
       "    <tr>\n",
       "      <th>506687</th>\n",
       "      <td>4170236</td>\n",
       "      <td>0.5</td>\n",
       "    </tr>\n",
       "    <tr>\n",
       "      <th>506688</th>\n",
       "      <td>4170237</td>\n",
       "      <td>0.5</td>\n",
       "    </tr>\n",
       "    <tr>\n",
       "      <th>506689</th>\n",
       "      <td>4170238</td>\n",
       "      <td>0.5</td>\n",
       "    </tr>\n",
       "    <tr>\n",
       "      <th>506690</th>\n",
       "      <td>4170239</td>\n",
       "      <td>0.5</td>\n",
       "    </tr>\n",
       "  </tbody>\n",
       "</table>\n",
       "<p>506691 rows × 2 columns</p>\n",
       "</div>"
      ],
      "text/plain": [
       "        TransactionID  isFraud\n",
       "0             3663549      0.5\n",
       "1             3663550      0.5\n",
       "2             3663551      0.5\n",
       "3             3663552      0.5\n",
       "4             3663553      0.5\n",
       "...               ...      ...\n",
       "506686        4170235      0.5\n",
       "506687        4170236      0.5\n",
       "506688        4170237      0.5\n",
       "506689        4170238      0.5\n",
       "506690        4170239      0.5\n",
       "\n",
       "[506691 rows x 2 columns]"
      ]
     },
     "execution_count": 85,
     "metadata": {},
     "output_type": "execute_result"
    },
    {
     "data": {
      "application/javascript": [
       "\n",
       "            setTimeout(function() {\n",
       "                var nbb_cell_id = 85;\n",
       "                var nbb_unformatted_code = \"sub\";\n",
       "                var nbb_formatted_code = \"sub\";\n",
       "                var nbb_cells = Jupyter.notebook.get_cells();\n",
       "                for (var i = 0; i < nbb_cells.length; ++i) {\n",
       "                    if (nbb_cells[i].input_prompt_number == nbb_cell_id) {\n",
       "                        if (nbb_cells[i].get_text() == nbb_unformatted_code) {\n",
       "                             nbb_cells[i].set_text(nbb_formatted_code);\n",
       "                        }\n",
       "                        break;\n",
       "                    }\n",
       "                }\n",
       "            }, 500);\n",
       "            "
      ],
      "text/plain": [
       "<IPython.core.display.Javascript object>"
      ]
     },
     "metadata": {},
     "output_type": "display_data"
    }
   ],
   "source": [
    "sub"
   ]
  },
  {
   "cell_type": "code",
   "execution_count": 86,
   "metadata": {},
   "outputs": [
    {
     "data": {
      "application/javascript": [
       "\n",
       "            setTimeout(function() {\n",
       "                var nbb_cell_id = 86;\n",
       "                var nbb_unformatted_code = \"sub['Fraud'] = final_clf.predict_proba(X_test)[:,1]\";\n",
       "                var nbb_formatted_code = \"sub[\\\"Fraud\\\"] = final_clf.predict_proba(X_test)[:, 1]\";\n",
       "                var nbb_cells = Jupyter.notebook.get_cells();\n",
       "                for (var i = 0; i < nbb_cells.length; ++i) {\n",
       "                    if (nbb_cells[i].input_prompt_number == nbb_cell_id) {\n",
       "                        if (nbb_cells[i].get_text() == nbb_unformatted_code) {\n",
       "                             nbb_cells[i].set_text(nbb_formatted_code);\n",
       "                        }\n",
       "                        break;\n",
       "                    }\n",
       "                }\n",
       "            }, 500);\n",
       "            "
      ],
      "text/plain": [
       "<IPython.core.display.Javascript object>"
      ]
     },
     "metadata": {},
     "output_type": "display_data"
    }
   ],
   "source": [
    "sub[\"Fraud\"] = final_clf.predict_proba(X_test)[:, 1]"
   ]
  },
  {
   "cell_type": "code",
   "execution_count": 87,
   "metadata": {},
   "outputs": [
    {
     "data": {
      "text/html": [
       "<div>\n",
       "<style scoped>\n",
       "    .dataframe tbody tr th:only-of-type {\n",
       "        vertical-align: middle;\n",
       "    }\n",
       "\n",
       "    .dataframe tbody tr th {\n",
       "        vertical-align: top;\n",
       "    }\n",
       "\n",
       "    .dataframe thead th {\n",
       "        text-align: right;\n",
       "    }\n",
       "</style>\n",
       "<table border=\"1\" class=\"dataframe\">\n",
       "  <thead>\n",
       "    <tr style=\"text-align: right;\">\n",
       "      <th></th>\n",
       "      <th>TransactionID</th>\n",
       "      <th>isFraud</th>\n",
       "      <th>Fraud</th>\n",
       "    </tr>\n",
       "  </thead>\n",
       "  <tbody>\n",
       "    <tr>\n",
       "      <th>0</th>\n",
       "      <td>3663549</td>\n",
       "      <td>0.5</td>\n",
       "      <td>0.005698</td>\n",
       "    </tr>\n",
       "    <tr>\n",
       "      <th>1</th>\n",
       "      <td>3663550</td>\n",
       "      <td>0.5</td>\n",
       "      <td>0.005601</td>\n",
       "    </tr>\n",
       "    <tr>\n",
       "      <th>2</th>\n",
       "      <td>3663551</td>\n",
       "      <td>0.5</td>\n",
       "      <td>0.008493</td>\n",
       "    </tr>\n",
       "    <tr>\n",
       "      <th>3</th>\n",
       "      <td>3663552</td>\n",
       "      <td>0.5</td>\n",
       "      <td>0.002523</td>\n",
       "    </tr>\n",
       "    <tr>\n",
       "      <th>4</th>\n",
       "      <td>3663553</td>\n",
       "      <td>0.5</td>\n",
       "      <td>0.005884</td>\n",
       "    </tr>\n",
       "    <tr>\n",
       "      <th>...</th>\n",
       "      <td>...</td>\n",
       "      <td>...</td>\n",
       "      <td>...</td>\n",
       "    </tr>\n",
       "    <tr>\n",
       "      <th>506686</th>\n",
       "      <td>4170235</td>\n",
       "      <td>0.5</td>\n",
       "      <td>0.019034</td>\n",
       "    </tr>\n",
       "    <tr>\n",
       "      <th>506687</th>\n",
       "      <td>4170236</td>\n",
       "      <td>0.5</td>\n",
       "      <td>0.023178</td>\n",
       "    </tr>\n",
       "    <tr>\n",
       "      <th>506688</th>\n",
       "      <td>4170237</td>\n",
       "      <td>0.5</td>\n",
       "      <td>0.010847</td>\n",
       "    </tr>\n",
       "    <tr>\n",
       "      <th>506689</th>\n",
       "      <td>4170238</td>\n",
       "      <td>0.5</td>\n",
       "      <td>0.008784</td>\n",
       "    </tr>\n",
       "    <tr>\n",
       "      <th>506690</th>\n",
       "      <td>4170239</td>\n",
       "      <td>0.5</td>\n",
       "      <td>0.009413</td>\n",
       "    </tr>\n",
       "  </tbody>\n",
       "</table>\n",
       "<p>506691 rows × 3 columns</p>\n",
       "</div>"
      ],
      "text/plain": [
       "        TransactionID  isFraud     Fraud\n",
       "0             3663549      0.5  0.005698\n",
       "1             3663550      0.5  0.005601\n",
       "2             3663551      0.5  0.008493\n",
       "3             3663552      0.5  0.002523\n",
       "4             3663553      0.5  0.005884\n",
       "...               ...      ...       ...\n",
       "506686        4170235      0.5  0.019034\n",
       "506687        4170236      0.5  0.023178\n",
       "506688        4170237      0.5  0.010847\n",
       "506689        4170238      0.5  0.008784\n",
       "506690        4170239      0.5  0.009413\n",
       "\n",
       "[506691 rows x 3 columns]"
      ]
     },
     "execution_count": 87,
     "metadata": {},
     "output_type": "execute_result"
    },
    {
     "data": {
      "application/javascript": [
       "\n",
       "            setTimeout(function() {\n",
       "                var nbb_cell_id = 87;\n",
       "                var nbb_unformatted_code = \"sub\";\n",
       "                var nbb_formatted_code = \"sub\";\n",
       "                var nbb_cells = Jupyter.notebook.get_cells();\n",
       "                for (var i = 0; i < nbb_cells.length; ++i) {\n",
       "                    if (nbb_cells[i].input_prompt_number == nbb_cell_id) {\n",
       "                        if (nbb_cells[i].get_text() == nbb_unformatted_code) {\n",
       "                             nbb_cells[i].set_text(nbb_formatted_code);\n",
       "                        }\n",
       "                        break;\n",
       "                    }\n",
       "                }\n",
       "            }, 500);\n",
       "            "
      ],
      "text/plain": [
       "<IPython.core.display.Javascript object>"
      ]
     },
     "metadata": {},
     "output_type": "display_data"
    }
   ],
   "source": [
    "sub"
   ]
  },
  {
   "cell_type": "markdown",
   "metadata": {},
   "source": [
    "Final Public Score: 0.923136"
   ]
  },
  {
   "cell_type": "code",
   "execution_count": null,
   "metadata": {},
   "outputs": [],
   "source": []
  }
 ],
 "metadata": {
  "kernelspec": {
   "display_name": "Python 3",
   "language": "python",
   "name": "python3"
  },
  "language_info": {
   "codemirror_mode": {
    "name": "ipython",
    "version": 3
   },
   "file_extension": ".py",
   "mimetype": "text/x-python",
   "name": "python",
   "nbconvert_exporter": "python",
   "pygments_lexer": "ipython3",
   "version": "3.8.0"
  }
 },
 "nbformat": 4,
 "nbformat_minor": 4
}
