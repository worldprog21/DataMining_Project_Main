{
 "cells": [
  {
   "cell_type": "code",
   "execution_count": 1,
   "metadata": {},
   "outputs": [
    {
     "data": {
      "application/javascript": [
       "\n",
       "            setTimeout(function() {\n",
       "                var nbb_cell_id = 1;\n",
       "                var nbb_unformatted_code = \"# debugging and formatter\\nfrom IPython.core.debugger import set_trace\\n\\n%load_ext nb_black\";\n",
       "                var nbb_formatted_code = \"# debugging and formatter\\nfrom IPython.core.debugger import set_trace\\n\\n%load_ext nb_black\";\n",
       "                var nbb_cells = Jupyter.notebook.get_cells();\n",
       "                for (var i = 0; i < nbb_cells.length; ++i) {\n",
       "                    if (nbb_cells[i].input_prompt_number == nbb_cell_id) {\n",
       "                        if (nbb_cells[i].get_text() == nbb_unformatted_code) {\n",
       "                             nbb_cells[i].set_text(nbb_formatted_code);\n",
       "                        }\n",
       "                        break;\n",
       "                    }\n",
       "                }\n",
       "            }, 500);\n",
       "            "
      ],
      "text/plain": [
       "<IPython.core.display.Javascript object>"
      ]
     },
     "metadata": {},
     "output_type": "display_data"
    }
   ],
   "source": [
    "# debugging and formatter\n",
    "from IPython.core.debugger import set_trace\n",
    "\n",
    "%load_ext nb_black"
   ]
  },
  {
   "cell_type": "code",
   "execution_count": 2,
   "metadata": {},
   "outputs": [
    {
     "data": {
      "application/javascript": [
       "\n",
       "            setTimeout(function() {\n",
       "                var nbb_cell_id = 2;\n",
       "                var nbb_unformatted_code = \"import pandas as pd\\nimport numpy as np\\nimport os\\nimport matplotlib.pyplot as plt\\nimport pickle\\nfrom sklearn.metrics import roc_auc_score\\nfrom sklearn.preprocessing import LabelEncoder\\nfrom sklearn.model_selection import TimeSeriesSplit, KFold\\nimport time\\nimport lightgbm as lgb\\nimport xgboost as xgb\\n\\nplt.style.use(style=\\\"seaborn\\\")\\n%matplotlib inline\";\n",
       "                var nbb_formatted_code = \"import pandas as pd\\nimport numpy as np\\nimport os\\nimport matplotlib.pyplot as plt\\nimport pickle\\nfrom sklearn.metrics import roc_auc_score\\nfrom sklearn.preprocessing import LabelEncoder\\nfrom sklearn.model_selection import TimeSeriesSplit, KFold\\nimport time\\nimport lightgbm as lgb\\nimport xgboost as xgb\\n\\nplt.style.use(style=\\\"seaborn\\\")\\n%matplotlib inline\";\n",
       "                var nbb_cells = Jupyter.notebook.get_cells();\n",
       "                for (var i = 0; i < nbb_cells.length; ++i) {\n",
       "                    if (nbb_cells[i].input_prompt_number == nbb_cell_id) {\n",
       "                        if (nbb_cells[i].get_text() == nbb_unformatted_code) {\n",
       "                             nbb_cells[i].set_text(nbb_formatted_code);\n",
       "                        }\n",
       "                        break;\n",
       "                    }\n",
       "                }\n",
       "            }, 500);\n",
       "            "
      ],
      "text/plain": [
       "<IPython.core.display.Javascript object>"
      ]
     },
     "metadata": {},
     "output_type": "display_data"
    }
   ],
   "source": [
    "import pandas as pd\n",
    "import numpy as np\n",
    "import os\n",
    "import matplotlib.pyplot as plt\n",
    "import pickle\n",
    "from sklearn.metrics import roc_auc_score\n",
    "from sklearn.preprocessing import LabelEncoder\n",
    "from sklearn.model_selection import TimeSeriesSplit, KFold\n",
    "import time\n",
    "import lightgbm as lgb\n",
    "import xgboost as xgb\n",
    "\n",
    "plt.style.use(style=\"seaborn\")\n",
    "%matplotlib inline"
   ]
  },
  {
   "cell_type": "code",
   "execution_count": 3,
   "metadata": {},
   "outputs": [
    {
     "data": {
      "application/javascript": [
       "\n",
       "            setTimeout(function() {\n",
       "                var nbb_cell_id = 3;\n",
       "                var nbb_unformatted_code = \"from os import listdir\\nfrom os.path import isfile, join\\n\\nloc = os.path.abspath(\\\"\\\")\\ndata_loc = f\\\"{loc}/data\\\"\";\n",
       "                var nbb_formatted_code = \"from os import listdir\\nfrom os.path import isfile, join\\n\\nloc = os.path.abspath(\\\"\\\")\\ndata_loc = f\\\"{loc}/data\\\"\";\n",
       "                var nbb_cells = Jupyter.notebook.get_cells();\n",
       "                for (var i = 0; i < nbb_cells.length; ++i) {\n",
       "                    if (nbb_cells[i].input_prompt_number == nbb_cell_id) {\n",
       "                        if (nbb_cells[i].get_text() == nbb_unformatted_code) {\n",
       "                             nbb_cells[i].set_text(nbb_formatted_code);\n",
       "                        }\n",
       "                        break;\n",
       "                    }\n",
       "                }\n",
       "            }, 500);\n",
       "            "
      ],
      "text/plain": [
       "<IPython.core.display.Javascript object>"
      ]
     },
     "metadata": {},
     "output_type": "display_data"
    }
   ],
   "source": [
    "from os import listdir\n",
    "from os.path import isfile, join\n",
    "\n",
    "loc = os.path.abspath(\"\")\n",
    "data_loc = f\"{loc}/data\""
   ]
  },
  {
   "cell_type": "markdown",
   "metadata": {},
   "source": [
    "Check data loading time and memory usage..."
   ]
  },
  {
   "cell_type": "code",
   "execution_count": 11,
   "metadata": {},
   "outputs": [
    {
     "name": "stdout",
     "output_type": "stream",
     "text": [
      "CPU times: user 8.53 s, sys: 4.91 s, total: 13.4 s\n",
      "Wall time: 1.51 s\n"
     ]
    },
    {
     "data": {
      "application/javascript": [
       "\n",
       "            setTimeout(function() {\n",
       "                var nbb_cell_id = 11;\n",
       "                var nbb_unformatted_code = \"%%time\\ntrain_id = pd.read_parquet(f\\\"{data_loc}/train_identity.parquet.gzip\\\")\\ntrain_tr = pd.read_parquet(f\\\"{data_loc}/train_transaction.parquet.gzip\\\")\\ntest_id = pd.read_parquet(f\\\"{data_loc}/test_identity.parquet.gzip\\\")\\ntest_tr = pd.read_parquet(f\\\"{data_loc}/test_transaction.parquet.gzip\\\")\";\n",
       "                var nbb_formatted_code = \"%%time\\ntrain_id = pd.read_parquet(f\\\"{data_loc}/train_identity.parquet.gzip\\\")\\ntrain_tr = pd.read_parquet(f\\\"{data_loc}/train_transaction.parquet.gzip\\\")\\ntest_id = pd.read_parquet(f\\\"{data_loc}/test_identity.parquet.gzip\\\")\\ntest_tr = pd.read_parquet(f\\\"{data_loc}/test_transaction.parquet.gzip\\\")\";\n",
       "                var nbb_cells = Jupyter.notebook.get_cells();\n",
       "                for (var i = 0; i < nbb_cells.length; ++i) {\n",
       "                    if (nbb_cells[i].input_prompt_number == nbb_cell_id) {\n",
       "                        if (nbb_cells[i].get_text() == nbb_unformatted_code) {\n",
       "                             nbb_cells[i].set_text(nbb_formatted_code);\n",
       "                        }\n",
       "                        break;\n",
       "                    }\n",
       "                }\n",
       "            }, 500);\n",
       "            "
      ],
      "text/plain": [
       "<IPython.core.display.Javascript object>"
      ]
     },
     "metadata": {},
     "output_type": "display_data"
    }
   ],
   "source": [
    "%%time\n",
    "train_id = pd.read_parquet(f\"{data_loc}/train_identity.parquet.gzip\")\n",
    "train_tr = pd.read_parquet(f\"{data_loc}/train_transaction.parquet.gzip\")\n",
    "test_id = pd.read_parquet(f\"{data_loc}/test_identity.parquet.gzip\")\n",
    "test_tr = pd.read_parquet(f\"{data_loc}/test_transaction.parquet.gzip\")"
   ]
  },
  {
   "cell_type": "code",
   "execution_count": 24,
   "metadata": {},
   "outputs": [
    {
     "data": {
      "application/javascript": [
       "\n",
       "            setTimeout(function() {\n",
       "                var nbb_cell_id = 24;\n",
       "                var nbb_unformatted_code = \"train = pd.merge(\\n    train_tr,\\n    train_id,\\n    how=\\\"left\\\",\\n    on=\\\"TransactionID\\\",\\n    left_index=True,\\n    right_index=True,\\n)\";\n",
       "                var nbb_formatted_code = \"train = pd.merge(\\n    train_tr,\\n    train_id,\\n    how=\\\"left\\\",\\n    on=\\\"TransactionID\\\",\\n    left_index=True,\\n    right_index=True,\\n)\";\n",
       "                var nbb_cells = Jupyter.notebook.get_cells();\n",
       "                for (var i = 0; i < nbb_cells.length; ++i) {\n",
       "                    if (nbb_cells[i].input_prompt_number == nbb_cell_id) {\n",
       "                        if (nbb_cells[i].get_text() == nbb_unformatted_code) {\n",
       "                             nbb_cells[i].set_text(nbb_formatted_code);\n",
       "                        }\n",
       "                        break;\n",
       "                    }\n",
       "                }\n",
       "            }, 500);\n",
       "            "
      ],
      "text/plain": [
       "<IPython.core.display.Javascript object>"
      ]
     },
     "metadata": {},
     "output_type": "display_data"
    }
   ],
   "source": [
    "train = pd.merge(\n",
    "    train_tr,\n",
    "    train_id,\n",
    "    how=\"left\",\n",
    "    on=\"TransactionID\",\n",
    "    left_index=True,\n",
    "    right_index=True,\n",
    ")"
   ]
  },
  {
   "cell_type": "code",
   "execution_count": 25,
   "metadata": {},
   "outputs": [
    {
     "data": {
      "application/javascript": [
       "\n",
       "            setTimeout(function() {\n",
       "                var nbb_cell_id = 25;\n",
       "                var nbb_unformatted_code = \"test = pd.merge(\\n    test_tr, test_id, how=\\\"left\\\", on=\\\"TransactionID\\\", left_index=True, right_index=True\\n)\";\n",
       "                var nbb_formatted_code = \"test = pd.merge(\\n    test_tr, test_id, how=\\\"left\\\", on=\\\"TransactionID\\\", left_index=True, right_index=True\\n)\";\n",
       "                var nbb_cells = Jupyter.notebook.get_cells();\n",
       "                for (var i = 0; i < nbb_cells.length; ++i) {\n",
       "                    if (nbb_cells[i].input_prompt_number == nbb_cell_id) {\n",
       "                        if (nbb_cells[i].get_text() == nbb_unformatted_code) {\n",
       "                             nbb_cells[i].set_text(nbb_formatted_code);\n",
       "                        }\n",
       "                        break;\n",
       "                    }\n",
       "                }\n",
       "            }, 500);\n",
       "            "
      ],
      "text/plain": [
       "<IPython.core.display.Javascript object>"
      ]
     },
     "metadata": {},
     "output_type": "display_data"
    }
   ],
   "source": [
    "test = pd.merge(\n",
    "    test_tr, test_id, how=\"left\", on=\"TransactionID\", left_index=True, right_index=True\n",
    ")"
   ]
  },
  {
   "cell_type": "code",
   "execution_count": 26,
   "metadata": {},
   "outputs": [
    {
     "name": "stdout",
     "output_type": "stream",
     "text": [
      "Train shape: (590540, 434), Test shape: (506691, 433)\n"
     ]
    },
    {
     "data": {
      "application/javascript": [
       "\n",
       "            setTimeout(function() {\n",
       "                var nbb_cell_id = 26;\n",
       "                var nbb_unformatted_code = \"print(f\\\"Train shape: {train.shape}, Test shape: {test.shape}\\\")\";\n",
       "                var nbb_formatted_code = \"print(f\\\"Train shape: {train.shape}, Test shape: {test.shape}\\\")\";\n",
       "                var nbb_cells = Jupyter.notebook.get_cells();\n",
       "                for (var i = 0; i < nbb_cells.length; ++i) {\n",
       "                    if (nbb_cells[i].input_prompt_number == nbb_cell_id) {\n",
       "                        if (nbb_cells[i].get_text() == nbb_unformatted_code) {\n",
       "                             nbb_cells[i].set_text(nbb_formatted_code);\n",
       "                        }\n",
       "                        break;\n",
       "                    }\n",
       "                }\n",
       "            }, 500);\n",
       "            "
      ],
      "text/plain": [
       "<IPython.core.display.Javascript object>"
      ]
     },
     "metadata": {},
     "output_type": "display_data"
    }
   ],
   "source": [
    "print(f\"Train shape: {train.shape}, Test shape: {test.shape}\")"
   ]
  },
  {
   "cell_type": "code",
   "execution_count": 27,
   "metadata": {},
   "outputs": [
    {
     "data": {
      "application/javascript": [
       "\n",
       "            setTimeout(function() {\n",
       "                var nbb_cell_id = 27;\n",
       "                var nbb_unformatted_code = \"imp_features = [\\n    \\\"TransactionAmt\\\",\\n    \\\"ProductCD\\\",\\n    \\\"card1\\\",\\n    \\\"card2\\\",\\n    \\\"card3\\\",\\n    \\\"card5\\\",\\n    \\\"card6\\\",\\n    \\\"addr1\\\",\\n    \\\"addr2\\\",\\n    \\\"dist1\\\",\\n    \\\"dist2\\\",\\n    \\\"P_emaildomain\\\",\\n    \\\"R_emaildomain\\\",\\n    \\\"C1\\\",\\n    \\\"C2\\\",\\n    \\\"C4\\\",\\n    \\\"C5\\\",\\n    \\\"C6\\\",\\n    \\\"C7\\\",\\n    \\\"C8\\\",\\n    \\\"C9\\\",\\n    \\\"C10\\\",\\n    \\\"C11\\\",\\n    \\\"C12\\\",\\n    \\\"C13\\\",\\n    \\\"C14\\\",\\n    \\\"D1\\\",\\n    \\\"D2\\\",\\n    \\\"D3\\\",\\n    \\\"D4\\\",\\n    \\\"D5\\\",\\n    \\\"D10\\\",\\n    \\\"D11\\\",\\n    \\\"D15\\\",\\n    \\\"M1\\\",\\n    \\\"M2\\\",\\n    \\\"M3\\\",\\n    \\\"M4\\\",\\n    \\\"M6\\\",\\n    \\\"M7\\\",\\n    \\\"M8\\\",\\n    \\\"M9\\\",\\n    \\\"V1\\\",\\n    \\\"V3\\\",\\n    \\\"V4\\\",\\n    \\\"V6\\\",\\n    \\\"V8\\\",\\n    \\\"V11\\\",\\n    \\\"V13\\\",\\n    \\\"V14\\\",\\n    \\\"V17\\\",\\n    \\\"V20\\\",\\n    \\\"V23\\\",\\n    \\\"V26\\\",\\n    \\\"V27\\\",\\n    \\\"V30\\\",\\n    \\\"V36\\\",\\n    \\\"V37\\\",\\n    \\\"V40\\\",\\n    \\\"V41\\\",\\n    \\\"V44\\\",\\n    \\\"V47\\\",\\n    \\\"V48\\\",\\n    \\\"V54\\\",\\n    \\\"V56\\\",\\n    \\\"V59\\\",\\n    \\\"V62\\\",\\n    \\\"V65\\\",\\n    \\\"V67\\\",\\n    \\\"V68\\\",\\n    \\\"V70\\\",\\n    \\\"V76\\\",\\n    \\\"V78\\\",\\n    \\\"V80\\\",\\n    \\\"V82\\\",\\n    \\\"V86\\\",\\n    \\\"V88\\\",\\n    \\\"V89\\\",\\n    \\\"V91\\\",\\n    \\\"V107\\\",\\n    \\\"V108\\\",\\n    \\\"V111\\\",\\n    \\\"V115\\\",\\n    \\\"V117\\\",\\n    \\\"V120\\\",\\n    \\\"V121\\\",\\n    \\\"V123\\\",\\n    \\\"V124\\\",\\n    \\\"V127\\\",\\n    \\\"V129\\\",\\n    \\\"V130\\\",\\n    \\\"V136\\\",\\n    \\\"V138\\\",\\n    \\\"V139\\\",\\n    \\\"V142\\\",\\n    \\\"V147\\\",\\n    \\\"V156\\\",\\n    \\\"V160\\\",\\n    \\\"V162\\\",\\n    \\\"V165\\\",\\n    \\\"V166\\\",\\n    \\\"V169\\\",\\n    \\\"V171\\\",\\n    \\\"V173\\\",\\n    \\\"V175\\\",\\n    \\\"V176\\\",\\n    \\\"V178\\\",\\n    \\\"V180\\\",\\n    \\\"V182\\\",\\n    \\\"V185\\\",\\n    \\\"V187\\\",\\n    \\\"V188\\\",\\n    \\\"V198\\\",\\n    \\\"V203\\\",\\n    \\\"V205\\\",\\n    \\\"V207\\\",\\n    \\\"V209\\\",\\n    \\\"V210\\\",\\n    \\\"V215\\\",\\n    \\\"V218\\\",\\n    \\\"V220\\\",\\n    \\\"V221\\\",\\n    \\\"V223\\\",\\n    \\\"V224\\\",\\n    \\\"V226\\\",\\n    \\\"V228\\\",\\n    \\\"V229\\\",\\n    \\\"V234\\\",\\n    \\\"V235\\\",\\n    \\\"V238\\\",\\n    \\\"V240\\\",\\n    \\\"V250\\\",\\n    \\\"V252\\\",\\n    \\\"V253\\\",\\n    \\\"V257\\\",\\n    \\\"V258\\\",\\n    \\\"V260\\\",\\n    \\\"V261\\\",\\n    \\\"V264\\\",\\n    \\\"V266\\\",\\n    \\\"V267\\\",\\n    \\\"V271\\\",\\n    \\\"V274\\\",\\n    \\\"V277\\\",\\n    \\\"V281\\\",\\n    \\\"V283\\\",\\n    \\\"V284\\\",\\n    \\\"V285\\\",\\n    \\\"V286\\\",\\n    \\\"V289\\\",\\n    \\\"V291\\\",\\n    \\\"V294\\\",\\n    \\\"V296\\\",\\n    \\\"V297\\\",\\n    \\\"V301\\\",\\n    \\\"V303\\\",\\n    \\\"V305\\\",\\n    \\\"V307\\\",\\n    \\\"V309\\\",\\n    \\\"V310\\\",\\n    \\\"V314\\\",\\n    \\\"V320\\\",\\n    \\\"DeviceType\\\",\\n    \\\"DeviceInfo\\\",\\n    \\\"isFraud\\\",\\n]\";\n",
       "                var nbb_formatted_code = \"imp_features = [\\n    \\\"TransactionAmt\\\",\\n    \\\"ProductCD\\\",\\n    \\\"card1\\\",\\n    \\\"card2\\\",\\n    \\\"card3\\\",\\n    \\\"card5\\\",\\n    \\\"card6\\\",\\n    \\\"addr1\\\",\\n    \\\"addr2\\\",\\n    \\\"dist1\\\",\\n    \\\"dist2\\\",\\n    \\\"P_emaildomain\\\",\\n    \\\"R_emaildomain\\\",\\n    \\\"C1\\\",\\n    \\\"C2\\\",\\n    \\\"C4\\\",\\n    \\\"C5\\\",\\n    \\\"C6\\\",\\n    \\\"C7\\\",\\n    \\\"C8\\\",\\n    \\\"C9\\\",\\n    \\\"C10\\\",\\n    \\\"C11\\\",\\n    \\\"C12\\\",\\n    \\\"C13\\\",\\n    \\\"C14\\\",\\n    \\\"D1\\\",\\n    \\\"D2\\\",\\n    \\\"D3\\\",\\n    \\\"D4\\\",\\n    \\\"D5\\\",\\n    \\\"D10\\\",\\n    \\\"D11\\\",\\n    \\\"D15\\\",\\n    \\\"M1\\\",\\n    \\\"M2\\\",\\n    \\\"M3\\\",\\n    \\\"M4\\\",\\n    \\\"M6\\\",\\n    \\\"M7\\\",\\n    \\\"M8\\\",\\n    \\\"M9\\\",\\n    \\\"V1\\\",\\n    \\\"V3\\\",\\n    \\\"V4\\\",\\n    \\\"V6\\\",\\n    \\\"V8\\\",\\n    \\\"V11\\\",\\n    \\\"V13\\\",\\n    \\\"V14\\\",\\n    \\\"V17\\\",\\n    \\\"V20\\\",\\n    \\\"V23\\\",\\n    \\\"V26\\\",\\n    \\\"V27\\\",\\n    \\\"V30\\\",\\n    \\\"V36\\\",\\n    \\\"V37\\\",\\n    \\\"V40\\\",\\n    \\\"V41\\\",\\n    \\\"V44\\\",\\n    \\\"V47\\\",\\n    \\\"V48\\\",\\n    \\\"V54\\\",\\n    \\\"V56\\\",\\n    \\\"V59\\\",\\n    \\\"V62\\\",\\n    \\\"V65\\\",\\n    \\\"V67\\\",\\n    \\\"V68\\\",\\n    \\\"V70\\\",\\n    \\\"V76\\\",\\n    \\\"V78\\\",\\n    \\\"V80\\\",\\n    \\\"V82\\\",\\n    \\\"V86\\\",\\n    \\\"V88\\\",\\n    \\\"V89\\\",\\n    \\\"V91\\\",\\n    \\\"V107\\\",\\n    \\\"V108\\\",\\n    \\\"V111\\\",\\n    \\\"V115\\\",\\n    \\\"V117\\\",\\n    \\\"V120\\\",\\n    \\\"V121\\\",\\n    \\\"V123\\\",\\n    \\\"V124\\\",\\n    \\\"V127\\\",\\n    \\\"V129\\\",\\n    \\\"V130\\\",\\n    \\\"V136\\\",\\n    \\\"V138\\\",\\n    \\\"V139\\\",\\n    \\\"V142\\\",\\n    \\\"V147\\\",\\n    \\\"V156\\\",\\n    \\\"V160\\\",\\n    \\\"V162\\\",\\n    \\\"V165\\\",\\n    \\\"V166\\\",\\n    \\\"V169\\\",\\n    \\\"V171\\\",\\n    \\\"V173\\\",\\n    \\\"V175\\\",\\n    \\\"V176\\\",\\n    \\\"V178\\\",\\n    \\\"V180\\\",\\n    \\\"V182\\\",\\n    \\\"V185\\\",\\n    \\\"V187\\\",\\n    \\\"V188\\\",\\n    \\\"V198\\\",\\n    \\\"V203\\\",\\n    \\\"V205\\\",\\n    \\\"V207\\\",\\n    \\\"V209\\\",\\n    \\\"V210\\\",\\n    \\\"V215\\\",\\n    \\\"V218\\\",\\n    \\\"V220\\\",\\n    \\\"V221\\\",\\n    \\\"V223\\\",\\n    \\\"V224\\\",\\n    \\\"V226\\\",\\n    \\\"V228\\\",\\n    \\\"V229\\\",\\n    \\\"V234\\\",\\n    \\\"V235\\\",\\n    \\\"V238\\\",\\n    \\\"V240\\\",\\n    \\\"V250\\\",\\n    \\\"V252\\\",\\n    \\\"V253\\\",\\n    \\\"V257\\\",\\n    \\\"V258\\\",\\n    \\\"V260\\\",\\n    \\\"V261\\\",\\n    \\\"V264\\\",\\n    \\\"V266\\\",\\n    \\\"V267\\\",\\n    \\\"V271\\\",\\n    \\\"V274\\\",\\n    \\\"V277\\\",\\n    \\\"V281\\\",\\n    \\\"V283\\\",\\n    \\\"V284\\\",\\n    \\\"V285\\\",\\n    \\\"V286\\\",\\n    \\\"V289\\\",\\n    \\\"V291\\\",\\n    \\\"V294\\\",\\n    \\\"V296\\\",\\n    \\\"V297\\\",\\n    \\\"V301\\\",\\n    \\\"V303\\\",\\n    \\\"V305\\\",\\n    \\\"V307\\\",\\n    \\\"V309\\\",\\n    \\\"V310\\\",\\n    \\\"V314\\\",\\n    \\\"V320\\\",\\n    \\\"DeviceType\\\",\\n    \\\"DeviceInfo\\\",\\n    \\\"isFraud\\\",\\n]\";\n",
       "                var nbb_cells = Jupyter.notebook.get_cells();\n",
       "                for (var i = 0; i < nbb_cells.length; ++i) {\n",
       "                    if (nbb_cells[i].input_prompt_number == nbb_cell_id) {\n",
       "                        if (nbb_cells[i].get_text() == nbb_unformatted_code) {\n",
       "                             nbb_cells[i].set_text(nbb_formatted_code);\n",
       "                        }\n",
       "                        break;\n",
       "                    }\n",
       "                }\n",
       "            }, 500);\n",
       "            "
      ],
      "text/plain": [
       "<IPython.core.display.Javascript object>"
      ]
     },
     "metadata": {},
     "output_type": "display_data"
    }
   ],
   "source": [
    "imp_features = [\n",
    "    \"TransactionAmt\",\n",
    "    \"ProductCD\",\n",
    "    \"card1\",\n",
    "    \"card2\",\n",
    "    \"card3\",\n",
    "    \"card5\",\n",
    "    \"card6\",\n",
    "    \"addr1\",\n",
    "    \"addr2\",\n",
    "    \"dist1\",\n",
    "    \"dist2\",\n",
    "    \"P_emaildomain\",\n",
    "    \"R_emaildomain\",\n",
    "    \"C1\",\n",
    "    \"C2\",\n",
    "    \"C4\",\n",
    "    \"C5\",\n",
    "    \"C6\",\n",
    "    \"C7\",\n",
    "    \"C8\",\n",
    "    \"C9\",\n",
    "    \"C10\",\n",
    "    \"C11\",\n",
    "    \"C12\",\n",
    "    \"C13\",\n",
    "    \"C14\",\n",
    "    \"D1\",\n",
    "    \"D2\",\n",
    "    \"D3\",\n",
    "    \"D4\",\n",
    "    \"D5\",\n",
    "    \"D10\",\n",
    "    \"D11\",\n",
    "    \"D15\",\n",
    "    \"M1\",\n",
    "    \"M2\",\n",
    "    \"M3\",\n",
    "    \"M4\",\n",
    "    \"M6\",\n",
    "    \"M7\",\n",
    "    \"M8\",\n",
    "    \"M9\",\n",
    "    \"V1\",\n",
    "    \"V3\",\n",
    "    \"V4\",\n",
    "    \"V6\",\n",
    "    \"V8\",\n",
    "    \"V11\",\n",
    "    \"V13\",\n",
    "    \"V14\",\n",
    "    \"V17\",\n",
    "    \"V20\",\n",
    "    \"V23\",\n",
    "    \"V26\",\n",
    "    \"V27\",\n",
    "    \"V30\",\n",
    "    \"V36\",\n",
    "    \"V37\",\n",
    "    \"V40\",\n",
    "    \"V41\",\n",
    "    \"V44\",\n",
    "    \"V47\",\n",
    "    \"V48\",\n",
    "    \"V54\",\n",
    "    \"V56\",\n",
    "    \"V59\",\n",
    "    \"V62\",\n",
    "    \"V65\",\n",
    "    \"V67\",\n",
    "    \"V68\",\n",
    "    \"V70\",\n",
    "    \"V76\",\n",
    "    \"V78\",\n",
    "    \"V80\",\n",
    "    \"V82\",\n",
    "    \"V86\",\n",
    "    \"V88\",\n",
    "    \"V89\",\n",
    "    \"V91\",\n",
    "    \"V107\",\n",
    "    \"V108\",\n",
    "    \"V111\",\n",
    "    \"V115\",\n",
    "    \"V117\",\n",
    "    \"V120\",\n",
    "    \"V121\",\n",
    "    \"V123\",\n",
    "    \"V124\",\n",
    "    \"V127\",\n",
    "    \"V129\",\n",
    "    \"V130\",\n",
    "    \"V136\",\n",
    "    \"V138\",\n",
    "    \"V139\",\n",
    "    \"V142\",\n",
    "    \"V147\",\n",
    "    \"V156\",\n",
    "    \"V160\",\n",
    "    \"V162\",\n",
    "    \"V165\",\n",
    "    \"V166\",\n",
    "    \"V169\",\n",
    "    \"V171\",\n",
    "    \"V173\",\n",
    "    \"V175\",\n",
    "    \"V176\",\n",
    "    \"V178\",\n",
    "    \"V180\",\n",
    "    \"V182\",\n",
    "    \"V185\",\n",
    "    \"V187\",\n",
    "    \"V188\",\n",
    "    \"V198\",\n",
    "    \"V203\",\n",
    "    \"V205\",\n",
    "    \"V207\",\n",
    "    \"V209\",\n",
    "    \"V210\",\n",
    "    \"V215\",\n",
    "    \"V218\",\n",
    "    \"V220\",\n",
    "    \"V221\",\n",
    "    \"V223\",\n",
    "    \"V224\",\n",
    "    \"V226\",\n",
    "    \"V228\",\n",
    "    \"V229\",\n",
    "    \"V234\",\n",
    "    \"V235\",\n",
    "    \"V238\",\n",
    "    \"V240\",\n",
    "    \"V250\",\n",
    "    \"V252\",\n",
    "    \"V253\",\n",
    "    \"V257\",\n",
    "    \"V258\",\n",
    "    \"V260\",\n",
    "    \"V261\",\n",
    "    \"V264\",\n",
    "    \"V266\",\n",
    "    \"V267\",\n",
    "    \"V271\",\n",
    "    \"V274\",\n",
    "    \"V277\",\n",
    "    \"V281\",\n",
    "    \"V283\",\n",
    "    \"V284\",\n",
    "    \"V285\",\n",
    "    \"V286\",\n",
    "    \"V289\",\n",
    "    \"V291\",\n",
    "    \"V294\",\n",
    "    \"V296\",\n",
    "    \"V297\",\n",
    "    \"V301\",\n",
    "    \"V303\",\n",
    "    \"V305\",\n",
    "    \"V307\",\n",
    "    \"V309\",\n",
    "    \"V310\",\n",
    "    \"V314\",\n",
    "    \"V320\",\n",
    "    \"DeviceType\",\n",
    "    \"DeviceInfo\",\n",
    "    \"isFraud\",\n",
    "]"
   ]
  },
  {
   "cell_type": "code",
   "execution_count": 28,
   "metadata": {},
   "outputs": [
    {
     "data": {
      "text/plain": [
       "165"
      ]
     },
     "execution_count": 28,
     "metadata": {},
     "output_type": "execute_result"
    },
    {
     "data": {
      "application/javascript": [
       "\n",
       "            setTimeout(function() {\n",
       "                var nbb_cell_id = 28;\n",
       "                var nbb_unformatted_code = \"len(imp_features)\";\n",
       "                var nbb_formatted_code = \"len(imp_features)\";\n",
       "                var nbb_cells = Jupyter.notebook.get_cells();\n",
       "                for (var i = 0; i < nbb_cells.length; ++i) {\n",
       "                    if (nbb_cells[i].input_prompt_number == nbb_cell_id) {\n",
       "                        if (nbb_cells[i].get_text() == nbb_unformatted_code) {\n",
       "                             nbb_cells[i].set_text(nbb_formatted_code);\n",
       "                        }\n",
       "                        break;\n",
       "                    }\n",
       "                }\n",
       "            }, 500);\n",
       "            "
      ],
      "text/plain": [
       "<IPython.core.display.Javascript object>"
      ]
     },
     "metadata": {},
     "output_type": "display_data"
    }
   ],
   "source": [
    "len(imp_features)"
   ]
  },
  {
   "cell_type": "code",
   "execution_count": 29,
   "metadata": {},
   "outputs": [
    {
     "name": "stdout",
     "output_type": "stream",
     "text": [
      "269 features from train are going to be dropped.\n",
      "269 features from test are going to be dropped.\n"
     ]
    },
    {
     "data": {
      "application/javascript": [
       "\n",
       "            setTimeout(function() {\n",
       "                var nbb_cell_id = 29;\n",
       "                var nbb_unformatted_code = \"cols_to_drop_train = [col for col in train.columns if col not in imp_features]\\ncols_to_drop_test = [col for col in test.columns if col not in imp_features]\\n\\nprint(f\\\"{len(cols_to_drop_train)} features from train are going to be dropped.\\\")\\nprint(f\\\"{len(cols_to_drop_test)} features from test are going to be dropped.\\\")\";\n",
       "                var nbb_formatted_code = \"cols_to_drop_train = [col for col in train.columns if col not in imp_features]\\ncols_to_drop_test = [col for col in test.columns if col not in imp_features]\\n\\nprint(f\\\"{len(cols_to_drop_train)} features from train are going to be dropped.\\\")\\nprint(f\\\"{len(cols_to_drop_test)} features from test are going to be dropped.\\\")\";\n",
       "                var nbb_cells = Jupyter.notebook.get_cells();\n",
       "                for (var i = 0; i < nbb_cells.length; ++i) {\n",
       "                    if (nbb_cells[i].input_prompt_number == nbb_cell_id) {\n",
       "                        if (nbb_cells[i].get_text() == nbb_unformatted_code) {\n",
       "                             nbb_cells[i].set_text(nbb_formatted_code);\n",
       "                        }\n",
       "                        break;\n",
       "                    }\n",
       "                }\n",
       "            }, 500);\n",
       "            "
      ],
      "text/plain": [
       "<IPython.core.display.Javascript object>"
      ]
     },
     "metadata": {},
     "output_type": "display_data"
    }
   ],
   "source": [
    "cols_to_drop_train = [col for col in train.columns if col not in imp_features]\n",
    "cols_to_drop_test = [col for col in test.columns if col not in imp_features]\n",
    "\n",
    "print(f\"{len(cols_to_drop_train)} features from train are going to be dropped.\")\n",
    "print(f\"{len(cols_to_drop_test)} features from test are going to be dropped.\")"
   ]
  },
  {
   "cell_type": "code",
   "execution_count": 30,
   "metadata": {},
   "outputs": [
    {
     "data": {
      "application/javascript": [
       "\n",
       "            setTimeout(function() {\n",
       "                var nbb_cell_id = 30;\n",
       "                var nbb_unformatted_code = \"train = train.drop(cols_to_drop_train, axis=1)\\ntest = test.drop(cols_to_drop_test, axis=1)\";\n",
       "                var nbb_formatted_code = \"train = train.drop(cols_to_drop_train, axis=1)\\ntest = test.drop(cols_to_drop_test, axis=1)\";\n",
       "                var nbb_cells = Jupyter.notebook.get_cells();\n",
       "                for (var i = 0; i < nbb_cells.length; ++i) {\n",
       "                    if (nbb_cells[i].input_prompt_number == nbb_cell_id) {\n",
       "                        if (nbb_cells[i].get_text() == nbb_unformatted_code) {\n",
       "                             nbb_cells[i].set_text(nbb_formatted_code);\n",
       "                        }\n",
       "                        break;\n",
       "                    }\n",
       "                }\n",
       "            }, 500);\n",
       "            "
      ],
      "text/plain": [
       "<IPython.core.display.Javascript object>"
      ]
     },
     "metadata": {},
     "output_type": "display_data"
    }
   ],
   "source": [
    "train = train.drop(cols_to_drop_train, axis=1)\n",
    "test = test.drop(cols_to_drop_test, axis=1)"
   ]
  },
  {
   "cell_type": "code",
   "execution_count": 31,
   "metadata": {},
   "outputs": [
    {
     "data": {
      "application/javascript": [
       "\n",
       "            setTimeout(function() {\n",
       "                var nbb_cell_id = 31;\n",
       "                var nbb_unformatted_code = \"def clean_inf_nan(df):\\n    return df.replace([np.inf, -np.inf], np.nan)\";\n",
       "                var nbb_formatted_code = \"def clean_inf_nan(df):\\n    return df.replace([np.inf, -np.inf], np.nan)\";\n",
       "                var nbb_cells = Jupyter.notebook.get_cells();\n",
       "                for (var i = 0; i < nbb_cells.length; ++i) {\n",
       "                    if (nbb_cells[i].input_prompt_number == nbb_cell_id) {\n",
       "                        if (nbb_cells[i].get_text() == nbb_unformatted_code) {\n",
       "                             nbb_cells[i].set_text(nbb_formatted_code);\n",
       "                        }\n",
       "                        break;\n",
       "                    }\n",
       "                }\n",
       "            }, 500);\n",
       "            "
      ],
      "text/plain": [
       "<IPython.core.display.Javascript object>"
      ]
     },
     "metadata": {},
     "output_type": "display_data"
    }
   ],
   "source": [
    "def clean_inf_nan(df):\n",
    "    return df.replace([np.inf, -np.inf], np.nan)"
   ]
  },
  {
   "cell_type": "code",
   "execution_count": 32,
   "metadata": {},
   "outputs": [
    {
     "data": {
      "application/javascript": [
       "\n",
       "            setTimeout(function() {\n",
       "                var nbb_cell_id = 32;\n",
       "                var nbb_unformatted_code = \"train = clean_inf_nan(train)\\ntest = clean_inf_nan(test)\";\n",
       "                var nbb_formatted_code = \"train = clean_inf_nan(train)\\ntest = clean_inf_nan(test)\";\n",
       "                var nbb_cells = Jupyter.notebook.get_cells();\n",
       "                for (var i = 0; i < nbb_cells.length; ++i) {\n",
       "                    if (nbb_cells[i].input_prompt_number == nbb_cell_id) {\n",
       "                        if (nbb_cells[i].get_text() == nbb_unformatted_code) {\n",
       "                             nbb_cells[i].set_text(nbb_formatted_code);\n",
       "                        }\n",
       "                        break;\n",
       "                    }\n",
       "                }\n",
       "            }, 500);\n",
       "            "
      ],
      "text/plain": [
       "<IPython.core.display.Javascript object>"
      ]
     },
     "metadata": {},
     "output_type": "display_data"
    }
   ],
   "source": [
    "train = clean_inf_nan(train)\n",
    "test = clean_inf_nan(test)"
   ]
  },
  {
   "cell_type": "code",
   "execution_count": 33,
   "metadata": {},
   "outputs": [
    {
     "data": {
      "application/javascript": [
       "\n",
       "            setTimeout(function() {\n",
       "                var nbb_cell_id = 33;\n",
       "                var nbb_unformatted_code = \"train.fillna(0, inplace=True)\\ntest.fillna(0, inplace=True)\";\n",
       "                var nbb_formatted_code = \"train.fillna(0, inplace=True)\\ntest.fillna(0, inplace=True)\";\n",
       "                var nbb_cells = Jupyter.notebook.get_cells();\n",
       "                for (var i = 0; i < nbb_cells.length; ++i) {\n",
       "                    if (nbb_cells[i].input_prompt_number == nbb_cell_id) {\n",
       "                        if (nbb_cells[i].get_text() == nbb_unformatted_code) {\n",
       "                             nbb_cells[i].set_text(nbb_formatted_code);\n",
       "                        }\n",
       "                        break;\n",
       "                    }\n",
       "                }\n",
       "            }, 500);\n",
       "            "
      ],
      "text/plain": [
       "<IPython.core.display.Javascript object>"
      ]
     },
     "metadata": {},
     "output_type": "display_data"
    }
   ],
   "source": [
    "train.fillna(0, inplace=True)\n",
    "test.fillna(0, inplace=True)"
   ]
  },
  {
   "cell_type": "code",
   "execution_count": 34,
   "metadata": {},
   "outputs": [
    {
     "data": {
      "application/javascript": [
       "\n",
       "            setTimeout(function() {\n",
       "                var nbb_cell_id = 34;\n",
       "                var nbb_unformatted_code = \"for col in train.columns:\\n    if train[col].dtype == \\\"object\\\":\\n        le = LabelEncoder()\\n        le.fit(list(train[col].astype(str).values) + list(test[col].astype(str).values))\\n        train[col] = le.transform(list(train[col].astype(str).values))\\n        test[col] = le.transform(list(test[col].astype(str).values))\";\n",
       "                var nbb_formatted_code = \"for col in train.columns:\\n    if train[col].dtype == \\\"object\\\":\\n        le = LabelEncoder()\\n        le.fit(list(train[col].astype(str).values) + list(test[col].astype(str).values))\\n        train[col] = le.transform(list(train[col].astype(str).values))\\n        test[col] = le.transform(list(test[col].astype(str).values))\";\n",
       "                var nbb_cells = Jupyter.notebook.get_cells();\n",
       "                for (var i = 0; i < nbb_cells.length; ++i) {\n",
       "                    if (nbb_cells[i].input_prompt_number == nbb_cell_id) {\n",
       "                        if (nbb_cells[i].get_text() == nbb_unformatted_code) {\n",
       "                             nbb_cells[i].set_text(nbb_formatted_code);\n",
       "                        }\n",
       "                        break;\n",
       "                    }\n",
       "                }\n",
       "            }, 500);\n",
       "            "
      ],
      "text/plain": [
       "<IPython.core.display.Javascript object>"
      ]
     },
     "metadata": {},
     "output_type": "display_data"
    }
   ],
   "source": [
    "for col in train.columns:\n",
    "    if train[col].dtype == \"object\":\n",
    "        le = LabelEncoder()\n",
    "        le.fit(list(train[col].astype(str).values) + list(test[col].astype(str).values))\n",
    "        train[col] = le.transform(list(train[col].astype(str).values))\n",
    "        test[col] = le.transform(list(test[col].astype(str).values))"
   ]
  },
  {
   "cell_type": "code",
   "execution_count": 35,
   "metadata": {},
   "outputs": [
    {
     "name": "stdout",
     "output_type": "stream",
     "text": [
      "(590540, 165)\n",
      "(506691, 164)\n"
     ]
    },
    {
     "data": {
      "application/javascript": [
       "\n",
       "            setTimeout(function() {\n",
       "                var nbb_cell_id = 35;\n",
       "                var nbb_unformatted_code = \"print(train.shape)\\nprint(test.shape)\";\n",
       "                var nbb_formatted_code = \"print(train.shape)\\nprint(test.shape)\";\n",
       "                var nbb_cells = Jupyter.notebook.get_cells();\n",
       "                for (var i = 0; i < nbb_cells.length; ++i) {\n",
       "                    if (nbb_cells[i].input_prompt_number == nbb_cell_id) {\n",
       "                        if (nbb_cells[i].get_text() == nbb_unformatted_code) {\n",
       "                             nbb_cells[i].set_text(nbb_formatted_code);\n",
       "                        }\n",
       "                        break;\n",
       "                    }\n",
       "                }\n",
       "            }, 500);\n",
       "            "
      ],
      "text/plain": [
       "<IPython.core.display.Javascript object>"
      ]
     },
     "metadata": {},
     "output_type": "display_data"
    }
   ],
   "source": [
    "print(train.shape)\n",
    "print(test.shape)"
   ]
  },
  {
   "cell_type": "code",
   "execution_count": 36,
   "metadata": {},
   "outputs": [
    {
     "data": {
      "application/javascript": [
       "\n",
       "            setTimeout(function() {\n",
       "                var nbb_cell_id = 36;\n",
       "                var nbb_unformatted_code = \"X_train = train.drop(\\\"isFraud\\\", axis=1).copy()\\nX_test = test.copy()\\ny_train = train[\\\"isFraud\\\"].copy()\";\n",
       "                var nbb_formatted_code = \"X_train = train.drop(\\\"isFraud\\\", axis=1).copy()\\nX_test = test.copy()\\ny_train = train[\\\"isFraud\\\"].copy()\";\n",
       "                var nbb_cells = Jupyter.notebook.get_cells();\n",
       "                for (var i = 0; i < nbb_cells.length; ++i) {\n",
       "                    if (nbb_cells[i].input_prompt_number == nbb_cell_id) {\n",
       "                        if (nbb_cells[i].get_text() == nbb_unformatted_code) {\n",
       "                             nbb_cells[i].set_text(nbb_formatted_code);\n",
       "                        }\n",
       "                        break;\n",
       "                    }\n",
       "                }\n",
       "            }, 500);\n",
       "            "
      ],
      "text/plain": [
       "<IPython.core.display.Javascript object>"
      ]
     },
     "metadata": {},
     "output_type": "display_data"
    }
   ],
   "source": [
    "X_train = train.drop(\"isFraud\", axis=1).copy()\n",
    "X_test = test.copy()\n",
    "y_train = train[\"isFraud\"].copy()"
   ]
  },
  {
   "cell_type": "code",
   "execution_count": 37,
   "metadata": {},
   "outputs": [
    {
     "name": "stdout",
     "output_type": "stream",
     "text": [
      "(590540, 164) (506691, 164) (590540,)\n"
     ]
    },
    {
     "data": {
      "application/javascript": [
       "\n",
       "            setTimeout(function() {\n",
       "                var nbb_cell_id = 37;\n",
       "                var nbb_unformatted_code = \"print(X_train.shape, X_test.shape, y_train.shape)\";\n",
       "                var nbb_formatted_code = \"print(X_train.shape, X_test.shape, y_train.shape)\";\n",
       "                var nbb_cells = Jupyter.notebook.get_cells();\n",
       "                for (var i = 0; i < nbb_cells.length; ++i) {\n",
       "                    if (nbb_cells[i].input_prompt_number == nbb_cell_id) {\n",
       "                        if (nbb_cells[i].get_text() == nbb_unformatted_code) {\n",
       "                             nbb_cells[i].set_text(nbb_formatted_code);\n",
       "                        }\n",
       "                        break;\n",
       "                    }\n",
       "                }\n",
       "            }, 500);\n",
       "            "
      ],
      "text/plain": [
       "<IPython.core.display.Javascript object>"
      ]
     },
     "metadata": {},
     "output_type": "display_data"
    }
   ],
   "source": [
    "print(X_train.shape, X_test.shape, y_train.shape)"
   ]
  },
  {
   "cell_type": "code",
   "execution_count": 38,
   "metadata": {},
   "outputs": [
    {
     "data": {
      "application/javascript": [
       "\n",
       "            setTimeout(function() {\n",
       "                var nbb_cell_id = 38;\n",
       "                var nbb_unformatted_code = \"from sklearn.model_selection import train_test_split\\n\\nX_train_split, X_test_split, y_train_split, y_test_split = train_test_split(\\n    X_train, y_train, test_size=0.3, random_state=7\\n)\";\n",
       "                var nbb_formatted_code = \"from sklearn.model_selection import train_test_split\\n\\nX_train_split, X_test_split, y_train_split, y_test_split = train_test_split(\\n    X_train, y_train, test_size=0.3, random_state=7\\n)\";\n",
       "                var nbb_cells = Jupyter.notebook.get_cells();\n",
       "                for (var i = 0; i < nbb_cells.length; ++i) {\n",
       "                    if (nbb_cells[i].input_prompt_number == nbb_cell_id) {\n",
       "                        if (nbb_cells[i].get_text() == nbb_unformatted_code) {\n",
       "                             nbb_cells[i].set_text(nbb_formatted_code);\n",
       "                        }\n",
       "                        break;\n",
       "                    }\n",
       "                }\n",
       "            }, 500);\n",
       "            "
      ],
      "text/plain": [
       "<IPython.core.display.Javascript object>"
      ]
     },
     "metadata": {},
     "output_type": "display_data"
    }
   ],
   "source": [
    "from sklearn.model_selection import train_test_split\n",
    "\n",
    "X_train_split, X_test_split, y_train_split, y_test_split = train_test_split(\n",
    "    X_train, y_train, test_size=0.3, random_state=7\n",
    ")"
   ]
  }
 ],
 "metadata": {
  "kernelspec": {
   "display_name": "Python 3",
   "language": "python",
   "name": "python3"
  },
  "language_info": {
   "codemirror_mode": {
    "name": "ipython",
    "version": 3
   },
   "file_extension": ".py",
   "mimetype": "text/x-python",
   "name": "python",
   "nbconvert_exporter": "python",
   "pygments_lexer": "ipython3",
   "version": "3.8.0"
  }
 },
 "nbformat": 4,
 "nbformat_minor": 4
}
