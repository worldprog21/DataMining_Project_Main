{
 "cells": [
  {
   "cell_type": "code",
   "execution_count": 1,
   "metadata": {},
   "outputs": [
    {
     "data": {
      "application/javascript": [
       "\n",
       "            setTimeout(function() {\n",
       "                var nbb_cell_id = 1;\n",
       "                var nbb_unformatted_code = \"# debugging and formatter\\nfrom IPython.core.debugger import set_trace\\n\\n%load_ext nb_black\";\n",
       "                var nbb_formatted_code = \"# debugging and formatter\\nfrom IPython.core.debugger import set_trace\\n\\n%load_ext nb_black\";\n",
       "                var nbb_cells = Jupyter.notebook.get_cells();\n",
       "                for (var i = 0; i < nbb_cells.length; ++i) {\n",
       "                    if (nbb_cells[i].input_prompt_number == nbb_cell_id) {\n",
       "                        if (nbb_cells[i].get_text() == nbb_unformatted_code) {\n",
       "                             nbb_cells[i].set_text(nbb_formatted_code);\n",
       "                        }\n",
       "                        break;\n",
       "                    }\n",
       "                }\n",
       "            }, 500);\n",
       "            "
      ],
      "text/plain": [
       "<IPython.core.display.Javascript object>"
      ]
     },
     "metadata": {},
     "output_type": "display_data"
    }
   ],
   "source": [
    "# debugging and formatter\n",
    "from IPython.core.debugger import set_trace\n",
    "\n",
    "%load_ext nb_black"
   ]
  },
  {
   "cell_type": "code",
   "execution_count": 2,
   "metadata": {},
   "outputs": [
    {
     "data": {
      "application/javascript": [
       "\n",
       "            setTimeout(function() {\n",
       "                var nbb_cell_id = 2;\n",
       "                var nbb_unformatted_code = \"import pandas as pd\\nimport numpy as np\\nimport os\\nimport matplotlib.pyplot as plt\\nimport pickle\\nfrom sklearn.metrics import roc_auc_score\\nfrom sklearn.preprocessing import LabelEncoder\\nfrom sklearn.model_selection import TimeSeriesSplit, KFold\\nimport time\\nimport lightgbm as lgb\\nimport xgboost as xgb\\n\\nplt.style.use(style=\\\"seaborn\\\")\\n%matplotlib inline\";\n",
       "                var nbb_formatted_code = \"import pandas as pd\\nimport numpy as np\\nimport os\\nimport matplotlib.pyplot as plt\\nimport pickle\\nfrom sklearn.metrics import roc_auc_score\\nfrom sklearn.preprocessing import LabelEncoder\\nfrom sklearn.model_selection import TimeSeriesSplit, KFold\\nimport time\\nimport lightgbm as lgb\\nimport xgboost as xgb\\n\\nplt.style.use(style=\\\"seaborn\\\")\\n%matplotlib inline\";\n",
       "                var nbb_cells = Jupyter.notebook.get_cells();\n",
       "                for (var i = 0; i < nbb_cells.length; ++i) {\n",
       "                    if (nbb_cells[i].input_prompt_number == nbb_cell_id) {\n",
       "                        if (nbb_cells[i].get_text() == nbb_unformatted_code) {\n",
       "                             nbb_cells[i].set_text(nbb_formatted_code);\n",
       "                        }\n",
       "                        break;\n",
       "                    }\n",
       "                }\n",
       "            }, 500);\n",
       "            "
      ],
      "text/plain": [
       "<IPython.core.display.Javascript object>"
      ]
     },
     "metadata": {},
     "output_type": "display_data"
    }
   ],
   "source": [
    "import pandas as pd\n",
    "import numpy as np\n",
    "import os\n",
    "import matplotlib.pyplot as plt\n",
    "import pickle\n",
    "from sklearn.metrics import roc_auc_score\n",
    "from sklearn.preprocessing import LabelEncoder\n",
    "from sklearn.model_selection import TimeSeriesSplit, KFold\n",
    "import time\n",
    "import lightgbm as lgb\n",
    "import xgboost as xgb\n",
    "\n",
    "plt.style.use(style=\"seaborn\")\n",
    "%matplotlib inline"
   ]
  },
  {
   "cell_type": "code",
   "execution_count": 3,
   "metadata": {},
   "outputs": [
    {
     "data": {
      "application/javascript": [
       "\n",
       "            setTimeout(function() {\n",
       "                var nbb_cell_id = 3;\n",
       "                var nbb_unformatted_code = \"from os import listdir\\nfrom os.path import isfile, join\\n\\nloc = os.path.abspath(\\\"\\\")\\ndata_loc = f\\\"{loc}/data\\\"\";\n",
       "                var nbb_formatted_code = \"from os import listdir\\nfrom os.path import isfile, join\\n\\nloc = os.path.abspath(\\\"\\\")\\ndata_loc = f\\\"{loc}/data\\\"\";\n",
       "                var nbb_cells = Jupyter.notebook.get_cells();\n",
       "                for (var i = 0; i < nbb_cells.length; ++i) {\n",
       "                    if (nbb_cells[i].input_prompt_number == nbb_cell_id) {\n",
       "                        if (nbb_cells[i].get_text() == nbb_unformatted_code) {\n",
       "                             nbb_cells[i].set_text(nbb_formatted_code);\n",
       "                        }\n",
       "                        break;\n",
       "                    }\n",
       "                }\n",
       "            }, 500);\n",
       "            "
      ],
      "text/plain": [
       "<IPython.core.display.Javascript object>"
      ]
     },
     "metadata": {},
     "output_type": "display_data"
    }
   ],
   "source": [
    "from os import listdir\n",
    "from os.path import isfile, join\n",
    "\n",
    "loc = os.path.abspath(\"\")\n",
    "data_loc = f\"{loc}/data\""
   ]
  },
  {
   "cell_type": "markdown",
   "metadata": {},
   "source": [
    "Check data loading time and memory usage..."
   ]
  },
  {
   "cell_type": "code",
   "execution_count": 5,
   "metadata": {},
   "outputs": [
    {
     "name": "stdout",
     "output_type": "stream",
     "text": [
      "CPU times: user 21.9 s, sys: 3.15 s, total: 25.1 s\n",
      "Wall time: 25.1 s\n"
     ]
    },
    {
     "data": {
      "application/javascript": [
       "\n",
       "            setTimeout(function() {\n",
       "                var nbb_cell_id = 5;\n",
       "                var nbb_unformatted_code = \"%%time\\ntrain_id = pd.read_csv(f\\\"{data_loc}/train_identity.csv\\\")\\ntrain_tr = pd.read_csv(f\\\"{data_loc}/train_transaction.csv\\\")\\ntest_id = pd.read_csv(f\\\"{data_loc}/test_identity.csv\\\")\\ntest_tr = pd.read_csv(f\\\"{data_loc}/test_transaction.csv\\\")\";\n",
       "                var nbb_formatted_code = \"%%time\\ntrain_id = pd.read_csv(f\\\"{data_loc}/train_identity.csv\\\")\\ntrain_tr = pd.read_csv(f\\\"{data_loc}/train_transaction.csv\\\")\\ntest_id = pd.read_csv(f\\\"{data_loc}/test_identity.csv\\\")\\ntest_tr = pd.read_csv(f\\\"{data_loc}/test_transaction.csv\\\")\";\n",
       "                var nbb_cells = Jupyter.notebook.get_cells();\n",
       "                for (var i = 0; i < nbb_cells.length; ++i) {\n",
       "                    if (nbb_cells[i].input_prompt_number == nbb_cell_id) {\n",
       "                        if (nbb_cells[i].get_text() == nbb_unformatted_code) {\n",
       "                             nbb_cells[i].set_text(nbb_formatted_code);\n",
       "                        }\n",
       "                        break;\n",
       "                    }\n",
       "                }\n",
       "            }, 500);\n",
       "            "
      ],
      "text/plain": [
       "<IPython.core.display.Javascript object>"
      ]
     },
     "metadata": {},
     "output_type": "display_data"
    }
   ],
   "source": [
    "%%time\n",
    "train_id = pd.read_csv(f\"{data_loc}/train_identity.csv\")\n",
    "train_tr = pd.read_csv(f\"{data_loc}/train_transaction.csv\")\n",
    "test_id = pd.read_csv(f\"{data_loc}/test_identity.csv\")\n",
    "test_tr = pd.read_csv(f\"{data_loc}/test_transaction.csv\")"
   ]
  },
  {
   "cell_type": "code",
   "execution_count": 6,
   "metadata": {},
   "outputs": [
    {
     "name": "stdout",
     "output_type": "stream",
     "text": [
      "<class 'pandas.core.frame.DataFrame'>\n",
      "RangeIndex: 144233 entries, 0 to 144232\n",
      "Data columns (total 41 columns):\n",
      "TransactionID    144233 non-null int64\n",
      "id_01            144233 non-null float64\n",
      "id_02            140872 non-null float64\n",
      "id_03            66324 non-null float64\n",
      "id_04            66324 non-null float64\n",
      "id_05            136865 non-null float64\n",
      "id_06            136865 non-null float64\n",
      "id_07            5155 non-null float64\n",
      "id_08            5155 non-null float64\n",
      "id_09            74926 non-null float64\n",
      "id_10            74926 non-null float64\n",
      "id_11            140978 non-null float64\n",
      "id_12            144233 non-null object\n",
      "id_13            127320 non-null float64\n",
      "id_14            80044 non-null float64\n",
      "id_15            140985 non-null object\n",
      "id_16            129340 non-null object\n",
      "id_17            139369 non-null float64\n",
      "id_18            45113 non-null float64\n",
      "id_19            139318 non-null float64\n",
      "id_20            139261 non-null float64\n",
      "id_21            5159 non-null float64\n",
      "id_22            5169 non-null float64\n",
      "id_23            5169 non-null object\n",
      "id_24            4747 non-null float64\n",
      "id_25            5132 non-null float64\n",
      "id_26            5163 non-null float64\n",
      "id_27            5169 non-null object\n",
      "id_28            140978 non-null object\n",
      "id_29            140978 non-null object\n",
      "id_30            77565 non-null object\n",
      "id_31            140282 non-null object\n",
      "id_32            77586 non-null float64\n",
      "id_33            73289 non-null object\n",
      "id_34            77805 non-null object\n",
      "id_35            140985 non-null object\n",
      "id_36            140985 non-null object\n",
      "id_37            140985 non-null object\n",
      "id_38            140985 non-null object\n",
      "DeviceType       140810 non-null object\n",
      "DeviceInfo       118666 non-null object\n",
      "dtypes: float64(23), int64(1), object(17)\n",
      "memory usage: 45.1+ MB\n",
      "None\n",
      "<class 'pandas.core.frame.DataFrame'>\n",
      "RangeIndex: 590540 entries, 0 to 590539\n",
      "Columns: 394 entries, TransactionID to V339\n",
      "dtypes: float64(376), int64(4), object(14)\n",
      "memory usage: 1.7+ GB\n",
      "None\n"
     ]
    },
    {
     "data": {
      "application/javascript": [
       "\n",
       "            setTimeout(function() {\n",
       "                var nbb_cell_id = 6;\n",
       "                var nbb_unformatted_code = \"print(train_id.info())\\nprint(train_tr.info())\";\n",
       "                var nbb_formatted_code = \"print(train_id.info())\\nprint(train_tr.info())\";\n",
       "                var nbb_cells = Jupyter.notebook.get_cells();\n",
       "                for (var i = 0; i < nbb_cells.length; ++i) {\n",
       "                    if (nbb_cells[i].input_prompt_number == nbb_cell_id) {\n",
       "                        if (nbb_cells[i].get_text() == nbb_unformatted_code) {\n",
       "                             nbb_cells[i].set_text(nbb_formatted_code);\n",
       "                        }\n",
       "                        break;\n",
       "                    }\n",
       "                }\n",
       "            }, 500);\n",
       "            "
      ],
      "text/plain": [
       "<IPython.core.display.Javascript object>"
      ]
     },
     "metadata": {},
     "output_type": "display_data"
    }
   ],
   "source": [
    "print(train_id.info())\n",
    "print(train_tr.info())"
   ]
  },
  {
   "cell_type": "markdown",
   "metadata": {},
   "source": [
    "#### Downcasts types to reduce memory usage."
   ]
  },
  {
   "cell_type": "code",
   "execution_count": 7,
   "metadata": {},
   "outputs": [
    {
     "data": {
      "application/javascript": [
       "\n",
       "            setTimeout(function() {\n",
       "                var nbb_cell_id = 7;\n",
       "                var nbb_unformatted_code = \"def downcast_dtypes(df):\\n    _start = df.memory_usage(deep=True).sum() / 1024 ** 2\\n    float_cols = [c for c in df if df[c].dtype == \\\"float64\\\"]\\n    int_cols = [c for c in df if df[c].dtype in [\\\"int64\\\", \\\"int32\\\"]]\\n    df[float_cols] = df[float_cols].astype(np.float32)\\n    df[int_cols] = df[int_cols].astype(np.int16)\\n    _end = df.memory_usage(deep=True).sum() / 1024 ** 2\\n    saved = (_start - _end) / _start * 100\\n    print(f\\\"Saved {saved:.2f}%\\\")\\n    return df\";\n",
       "                var nbb_formatted_code = \"def downcast_dtypes(df):\\n    _start = df.memory_usage(deep=True).sum() / 1024 ** 2\\n    float_cols = [c for c in df if df[c].dtype == \\\"float64\\\"]\\n    int_cols = [c for c in df if df[c].dtype in [\\\"int64\\\", \\\"int32\\\"]]\\n    df[float_cols] = df[float_cols].astype(np.float32)\\n    df[int_cols] = df[int_cols].astype(np.int16)\\n    _end = df.memory_usage(deep=True).sum() / 1024 ** 2\\n    saved = (_start - _end) / _start * 100\\n    print(f\\\"Saved {saved:.2f}%\\\")\\n    return df\";\n",
       "                var nbb_cells = Jupyter.notebook.get_cells();\n",
       "                for (var i = 0; i < nbb_cells.length; ++i) {\n",
       "                    if (nbb_cells[i].input_prompt_number == nbb_cell_id) {\n",
       "                        if (nbb_cells[i].get_text() == nbb_unformatted_code) {\n",
       "                             nbb_cells[i].set_text(nbb_formatted_code);\n",
       "                        }\n",
       "                        break;\n",
       "                    }\n",
       "                }\n",
       "            }, 500);\n",
       "            "
      ],
      "text/plain": [
       "<IPython.core.display.Javascript object>"
      ]
     },
     "metadata": {},
     "output_type": "display_data"
    }
   ],
   "source": [
    "def downcast_dtypes(df):\n",
    "    _start = df.memory_usage(deep=True).sum() / 1024 ** 2\n",
    "    float_cols = [c for c in df if df[c].dtype == \"float64\"]\n",
    "    int_cols = [c for c in df if df[c].dtype in [\"int64\", \"int32\"]]\n",
    "    df[float_cols] = df[float_cols].astype(np.float32)\n",
    "    df[int_cols] = df[int_cols].astype(np.int16)\n",
    "    _end = df.memory_usage(deep=True).sum() / 1024 ** 2\n",
    "    saved = (_start - _end) / _start * 100\n",
    "    print(f\"Saved {saved:.2f}%\")\n",
    "    return df"
   ]
  },
  {
   "cell_type": "code",
   "execution_count": 8,
   "metadata": {},
   "outputs": [
    {
     "name": "stdout",
     "output_type": "stream",
     "text": [
      "Saved 8.32%\n",
      "Saved 40.53%\n",
      "Saved 8.38%\n",
      "Saved 40.20%\n"
     ]
    },
    {
     "data": {
      "application/javascript": [
       "\n",
       "            setTimeout(function() {\n",
       "                var nbb_cell_id = 8;\n",
       "                var nbb_unformatted_code = \"train_id = downcast_dtypes(train_id)\\ntrain_tr = downcast_dtypes(train_tr)\\ntest_id = downcast_dtypes(test_id)\\ntest_tr = downcast_dtypes(test_tr)\";\n",
       "                var nbb_formatted_code = \"train_id = downcast_dtypes(train_id)\\ntrain_tr = downcast_dtypes(train_tr)\\ntest_id = downcast_dtypes(test_id)\\ntest_tr = downcast_dtypes(test_tr)\";\n",
       "                var nbb_cells = Jupyter.notebook.get_cells();\n",
       "                for (var i = 0; i < nbb_cells.length; ++i) {\n",
       "                    if (nbb_cells[i].input_prompt_number == nbb_cell_id) {\n",
       "                        if (nbb_cells[i].get_text() == nbb_unformatted_code) {\n",
       "                             nbb_cells[i].set_text(nbb_formatted_code);\n",
       "                        }\n",
       "                        break;\n",
       "                    }\n",
       "                }\n",
       "            }, 500);\n",
       "            "
      ],
      "text/plain": [
       "<IPython.core.display.Javascript object>"
      ]
     },
     "metadata": {},
     "output_type": "display_data"
    }
   ],
   "source": [
    "train_id = downcast_dtypes(train_id)\n",
    "train_tr = downcast_dtypes(train_tr)\n",
    "test_id = downcast_dtypes(test_id)\n",
    "test_tr = downcast_dtypes(test_tr)"
   ]
  },
  {
   "cell_type": "code",
   "execution_count": 9,
   "metadata": {},
   "outputs": [
    {
     "name": "stdout",
     "output_type": "stream",
     "text": [
      "<class 'pandas.core.frame.DataFrame'>\n",
      "RangeIndex: 144233 entries, 0 to 144232\n",
      "Data columns (total 41 columns):\n",
      "TransactionID    144233 non-null int16\n",
      "id_01            144233 non-null float32\n",
      "id_02            140872 non-null float32\n",
      "id_03            66324 non-null float32\n",
      "id_04            66324 non-null float32\n",
      "id_05            136865 non-null float32\n",
      "id_06            136865 non-null float32\n",
      "id_07            5155 non-null float32\n",
      "id_08            5155 non-null float32\n",
      "id_09            74926 non-null float32\n",
      "id_10            74926 non-null float32\n",
      "id_11            140978 non-null float32\n",
      "id_12            144233 non-null object\n",
      "id_13            127320 non-null float32\n",
      "id_14            80044 non-null float32\n",
      "id_15            140985 non-null object\n",
      "id_16            129340 non-null object\n",
      "id_17            139369 non-null float32\n",
      "id_18            45113 non-null float32\n",
      "id_19            139318 non-null float32\n",
      "id_20            139261 non-null float32\n",
      "id_21            5159 non-null float32\n",
      "id_22            5169 non-null float32\n",
      "id_23            5169 non-null object\n",
      "id_24            4747 non-null float32\n",
      "id_25            5132 non-null float32\n",
      "id_26            5163 non-null float32\n",
      "id_27            5169 non-null object\n",
      "id_28            140978 non-null object\n",
      "id_29            140978 non-null object\n",
      "id_30            77565 non-null object\n",
      "id_31            140282 non-null object\n",
      "id_32            77586 non-null float32\n",
      "id_33            73289 non-null object\n",
      "id_34            77805 non-null object\n",
      "id_35            140985 non-null object\n",
      "id_36            140985 non-null object\n",
      "id_37            140985 non-null object\n",
      "id_38            140985 non-null object\n",
      "DeviceType       140810 non-null object\n",
      "DeviceInfo       118666 non-null object\n",
      "dtypes: float32(23), int16(1), object(17)\n",
      "memory usage: 31.6+ MB\n",
      "None\n",
      "<class 'pandas.core.frame.DataFrame'>\n",
      "RangeIndex: 590540 entries, 0 to 590539\n",
      "Columns: 394 entries, TransactionID to V339\n",
      "dtypes: float32(376), int16(4), object(14)\n",
      "memory usage: 914.6+ MB\n",
      "None\n"
     ]
    },
    {
     "data": {
      "application/javascript": [
       "\n",
       "            setTimeout(function() {\n",
       "                var nbb_cell_id = 9;\n",
       "                var nbb_unformatted_code = \"print(train_id.info())\\nprint(train_tr.info())\";\n",
       "                var nbb_formatted_code = \"print(train_id.info())\\nprint(train_tr.info())\";\n",
       "                var nbb_cells = Jupyter.notebook.get_cells();\n",
       "                for (var i = 0; i < nbb_cells.length; ++i) {\n",
       "                    if (nbb_cells[i].input_prompt_number == nbb_cell_id) {\n",
       "                        if (nbb_cells[i].get_text() == nbb_unformatted_code) {\n",
       "                             nbb_cells[i].set_text(nbb_formatted_code);\n",
       "                        }\n",
       "                        break;\n",
       "                    }\n",
       "                }\n",
       "            }, 500);\n",
       "            "
      ],
      "text/plain": [
       "<IPython.core.display.Javascript object>"
      ]
     },
     "metadata": {},
     "output_type": "display_data"
    }
   ],
   "source": [
    "print(train_id.info())\n",
    "print(train_tr.info())"
   ]
  },
  {
   "cell_type": "code",
   "execution_count": 10,
   "metadata": {},
   "outputs": [
    {
     "data": {
      "application/javascript": [
       "\n",
       "            setTimeout(function() {\n",
       "                var nbb_cell_id = 10;\n",
       "                var nbb_unformatted_code = \"train_id.to_parquet(f\\\"{data_loc}/train_identity.parquet.gzip\\\", compression=\\\"gzip\\\")\\ntrain_tr.to_parquet(f\\\"{data_loc}/train_transaction.parquet.gzip\\\", compression=\\\"gzip\\\")\\ntest_id.to_parquet(f\\\"{data_loc}/test_identity.parquet.gzip\\\", compression=\\\"gzip\\\")\\ntest_tr.to_parquet(f\\\"{data_loc}/test_transaction.parquet.gzip\\\", compression=\\\"gzip\\\")\";\n",
       "                var nbb_formatted_code = \"train_id.to_parquet(f\\\"{data_loc}/train_identity.parquet.gzip\\\", compression=\\\"gzip\\\")\\ntrain_tr.to_parquet(f\\\"{data_loc}/train_transaction.parquet.gzip\\\", compression=\\\"gzip\\\")\\ntest_id.to_parquet(f\\\"{data_loc}/test_identity.parquet.gzip\\\", compression=\\\"gzip\\\")\\ntest_tr.to_parquet(f\\\"{data_loc}/test_transaction.parquet.gzip\\\", compression=\\\"gzip\\\")\";\n",
       "                var nbb_cells = Jupyter.notebook.get_cells();\n",
       "                for (var i = 0; i < nbb_cells.length; ++i) {\n",
       "                    if (nbb_cells[i].input_prompt_number == nbb_cell_id) {\n",
       "                        if (nbb_cells[i].get_text() == nbb_unformatted_code) {\n",
       "                             nbb_cells[i].set_text(nbb_formatted_code);\n",
       "                        }\n",
       "                        break;\n",
       "                    }\n",
       "                }\n",
       "            }, 500);\n",
       "            "
      ],
      "text/plain": [
       "<IPython.core.display.Javascript object>"
      ]
     },
     "metadata": {},
     "output_type": "display_data"
    }
   ],
   "source": [
    "train_id.to_parquet(f\"{data_loc}/train_identity.parquet.gzip\", compression=\"gzip\")\n",
    "train_tr.to_parquet(f\"{data_loc}/train_transaction.parquet.gzip\", compression=\"gzip\")\n",
    "test_id.to_parquet(f\"{data_loc}/test_identity.parquet.gzip\", compression=\"gzip\")\n",
    "test_tr.to_parquet(f\"{data_loc}/test_transaction.parquet.gzip\", compression=\"gzip\")"
   ]
  },
  {
   "cell_type": "code",
   "execution_count": 11,
   "metadata": {},
   "outputs": [
    {
     "name": "stdout",
     "output_type": "stream",
     "text": [
      "CPU times: user 8.53 s, sys: 4.91 s, total: 13.4 s\n",
      "Wall time: 1.51 s\n"
     ]
    },
    {
     "data": {
      "application/javascript": [
       "\n",
       "            setTimeout(function() {\n",
       "                var nbb_cell_id = 11;\n",
       "                var nbb_unformatted_code = \"%%time\\ntrain_id = pd.read_parquet(f\\\"{data_loc}/train_identity.parquet.gzip\\\")\\ntrain_tr = pd.read_parquet(f\\\"{data_loc}/train_transaction.parquet.gzip\\\")\\ntest_id = pd.read_parquet(f\\\"{data_loc}/test_identity.parquet.gzip\\\")\\ntest_tr = pd.read_parquet(f\\\"{data_loc}/test_transaction.parquet.gzip\\\")\";\n",
       "                var nbb_formatted_code = \"%%time\\ntrain_id = pd.read_parquet(f\\\"{data_loc}/train_identity.parquet.gzip\\\")\\ntrain_tr = pd.read_parquet(f\\\"{data_loc}/train_transaction.parquet.gzip\\\")\\ntest_id = pd.read_parquet(f\\\"{data_loc}/test_identity.parquet.gzip\\\")\\ntest_tr = pd.read_parquet(f\\\"{data_loc}/test_transaction.parquet.gzip\\\")\";\n",
       "                var nbb_cells = Jupyter.notebook.get_cells();\n",
       "                for (var i = 0; i < nbb_cells.length; ++i) {\n",
       "                    if (nbb_cells[i].input_prompt_number == nbb_cell_id) {\n",
       "                        if (nbb_cells[i].get_text() == nbb_unformatted_code) {\n",
       "                             nbb_cells[i].set_text(nbb_formatted_code);\n",
       "                        }\n",
       "                        break;\n",
       "                    }\n",
       "                }\n",
       "            }, 500);\n",
       "            "
      ],
      "text/plain": [
       "<IPython.core.display.Javascript object>"
      ]
     },
     "metadata": {},
     "output_type": "display_data"
    }
   ],
   "source": [
    "%%time\n",
    "train_id = pd.read_parquet(f\"{data_loc}/train_identity.parquet.gzip\")\n",
    "train_tr = pd.read_parquet(f\"{data_loc}/train_transaction.parquet.gzip\")\n",
    "test_id = pd.read_parquet(f\"{data_loc}/test_identity.parquet.gzip\")\n",
    "test_tr = pd.read_parquet(f\"{data_loc}/test_transaction.parquet.gzip\")"
   ]
  },
  {
   "cell_type": "code",
   "execution_count": 24,
   "metadata": {},
   "outputs": [
    {
     "data": {
      "application/javascript": [
       "\n",
       "            setTimeout(function() {\n",
       "                var nbb_cell_id = 24;\n",
       "                var nbb_unformatted_code = \"train = pd.merge(\\n    train_tr,\\n    train_id,\\n    how=\\\"left\\\",\\n    on=\\\"TransactionID\\\",\\n    left_index=True,\\n    right_index=True,\\n)\";\n",
       "                var nbb_formatted_code = \"train = pd.merge(\\n    train_tr,\\n    train_id,\\n    how=\\\"left\\\",\\n    on=\\\"TransactionID\\\",\\n    left_index=True,\\n    right_index=True,\\n)\";\n",
       "                var nbb_cells = Jupyter.notebook.get_cells();\n",
       "                for (var i = 0; i < nbb_cells.length; ++i) {\n",
       "                    if (nbb_cells[i].input_prompt_number == nbb_cell_id) {\n",
       "                        if (nbb_cells[i].get_text() == nbb_unformatted_code) {\n",
       "                             nbb_cells[i].set_text(nbb_formatted_code);\n",
       "                        }\n",
       "                        break;\n",
       "                    }\n",
       "                }\n",
       "            }, 500);\n",
       "            "
      ],
      "text/plain": [
       "<IPython.core.display.Javascript object>"
      ]
     },
     "metadata": {},
     "output_type": "display_data"
    }
   ],
   "source": [
    "train = pd.merge(\n",
    "    train_tr,\n",
    "    train_id,\n",
    "    how=\"left\",\n",
    "    on=\"TransactionID\",\n",
    "    left_index=True,\n",
    "    right_index=True,\n",
    ")"
   ]
  },
  {
   "cell_type": "code",
   "execution_count": 25,
   "metadata": {},
   "outputs": [
    {
     "data": {
      "application/javascript": [
       "\n",
       "            setTimeout(function() {\n",
       "                var nbb_cell_id = 25;\n",
       "                var nbb_unformatted_code = \"test = pd.merge(\\n    test_tr, test_id, how=\\\"left\\\", on=\\\"TransactionID\\\", left_index=True, right_index=True\\n)\";\n",
       "                var nbb_formatted_code = \"test = pd.merge(\\n    test_tr, test_id, how=\\\"left\\\", on=\\\"TransactionID\\\", left_index=True, right_index=True\\n)\";\n",
       "                var nbb_cells = Jupyter.notebook.get_cells();\n",
       "                for (var i = 0; i < nbb_cells.length; ++i) {\n",
       "                    if (nbb_cells[i].input_prompt_number == nbb_cell_id) {\n",
       "                        if (nbb_cells[i].get_text() == nbb_unformatted_code) {\n",
       "                             nbb_cells[i].set_text(nbb_formatted_code);\n",
       "                        }\n",
       "                        break;\n",
       "                    }\n",
       "                }\n",
       "            }, 500);\n",
       "            "
      ],
      "text/plain": [
       "<IPython.core.display.Javascript object>"
      ]
     },
     "metadata": {},
     "output_type": "display_data"
    }
   ],
   "source": [
    "test = pd.merge(\n",
    "    test_tr, test_id, how=\"left\", on=\"TransactionID\", left_index=True, right_index=True\n",
    ")"
   ]
  },
  {
   "cell_type": "code",
   "execution_count": 26,
   "metadata": {},
   "outputs": [
    {
     "name": "stdout",
     "output_type": "stream",
     "text": [
      "Train shape: (590540, 434), Test shape: (506691, 433)\n"
     ]
    },
    {
     "data": {
      "application/javascript": [
       "\n",
       "            setTimeout(function() {\n",
       "                var nbb_cell_id = 26;\n",
       "                var nbb_unformatted_code = \"print(f\\\"Train shape: {train.shape}, Test shape: {test.shape}\\\")\";\n",
       "                var nbb_formatted_code = \"print(f\\\"Train shape: {train.shape}, Test shape: {test.shape}\\\")\";\n",
       "                var nbb_cells = Jupyter.notebook.get_cells();\n",
       "                for (var i = 0; i < nbb_cells.length; ++i) {\n",
       "                    if (nbb_cells[i].input_prompt_number == nbb_cell_id) {\n",
       "                        if (nbb_cells[i].get_text() == nbb_unformatted_code) {\n",
       "                             nbb_cells[i].set_text(nbb_formatted_code);\n",
       "                        }\n",
       "                        break;\n",
       "                    }\n",
       "                }\n",
       "            }, 500);\n",
       "            "
      ],
      "text/plain": [
       "<IPython.core.display.Javascript object>"
      ]
     },
     "metadata": {},
     "output_type": "display_data"
    }
   ],
   "source": [
    "print(f\"Train shape: {train.shape}, Test shape: {test.shape}\")"
   ]
  }
 ],
 "metadata": {
  "kernelspec": {
   "display_name": "Python 3",
   "language": "python",
   "name": "python3"
  },
  "language_info": {
   "codemirror_mode": {
    "name": "ipython",
    "version": 3
   },
   "file_extension": ".py",
   "mimetype": "text/x-python",
   "name": "python",
   "nbconvert_exporter": "python",
   "pygments_lexer": "ipython3",
   "version": "3.8.0"
  }
 },
 "nbformat": 4,
 "nbformat_minor": 4
}
